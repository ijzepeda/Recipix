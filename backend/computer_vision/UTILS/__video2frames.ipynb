{
 "cells": [
  {
   "cell_type": "code",
   "execution_count": 1,
   "id": "4cd466b7",
   "metadata": {
    "ExecuteTime": {
     "end_time": "2024-03-24T02:18:04.773008Z",
     "start_time": "2024-03-24T02:18:04.388923Z"
    }
   },
   "outputs": [],
   "source": [
    "import cv2\n",
    "import os\n",
    "import shutil\n",
    "\n",
    "def extract_frames(video_path, target_dir, frames_per_second=10):\n",
    "    if not os.path.exists(target_dir):\n",
    "        os.makedirs(target_dir)\n",
    "\n",
    "    vidcap = cv2.VideoCapture(video_path)\n",
    "    total_frames = int(vidcap.get(cv2.CAP_PROP_FRAME_COUNT))\n",
    "    video_fps = vidcap.get(cv2.CAP_PROP_FPS)\n",
    "    interval = int(video_fps / frames_per_second)\n",
    "\n",
    "    success, image = vidcap.read()\n",
    "    count = 0\n",
    "    saved_frame_count = 0\n",
    "\n",
    "    while success:\n",
    "        if count % interval == 0:\n",
    "            ingredient=target_dir.split(\"/\")[-1]\n",
    "            frame_file = os.path.join(target_dir, f\"{ingredient}_{saved_frame_count:04d}.png\")\n",
    "            cv2.imwrite(frame_file, image)\n",
    "            saved_frame_count += 1\n",
    "        success, image = vidcap.read()\n",
    "        count += 1\n",
    "\n",
    "    vidcap.release()\n",
    "    print(f\"Extracted {saved_frame_count} frames from {os.path.basename(video_path)}\")\n",
    "\n",
    "def process_videos_from_directory(source_dir, frames_per_second=10):\n",
    "    for file in os.listdir(source_dir):\n",
    "        if file.endswith((\".mp4\", \".avi\", \".mov\")):  # Add other video formats if needed\n",
    "            video_path = os.path.join(source_dir, file)\n",
    "            target_dir = os.path.join(source_dir, os.path.splitext(file)[0])\n",
    "            extract_frames(video_path, target_dir, frames_per_second)"
   ]
  },
  {
   "cell_type": "code",
   "execution_count": 2,
   "id": "0b9fdf30",
   "metadata": {
    "ExecuteTime": {
     "end_time": "2024-03-24T02:19:26.114418Z",
     "start_time": "2024-03-24T02:18:23.734301Z"
    }
   },
   "outputs": [
    {
     "name": "stdout",
     "output_type": "stream",
     "text": [
      "Extracted 27 frames from avocado.mp4\n",
      "Extracted 36 frames from banana.mp4\n",
      "Extracted 54 frames from beans.mp4\n",
      "Extracted 32 frames from bell_pepper.mp4\n",
      "Extracted 26 frames from brocolli.mp4\n",
      "Extracted 19 frames from cambray.mp4\n",
      "Extracted 18 frames from cantaloupe.mp4\n",
      "Extracted 25 frames from celery.mp4\n",
      "Extracted 22 frames from cilantro.mp4\n",
      "Extracted 19 frames from coliflower.mp4\n",
      "Extracted 38 frames from coliflower_cut.mp4\n",
      "Extracted 36 frames from green_apple.mp4\n",
      "Extracted 38 frames from guava.mp4\n",
      "Extracted 28 frames from kiwi.mp4\n",
      "Extracted 30 frames from lime.mp4\n",
      "Extracted 27 frames from mango.mp4\n",
      "Extracted 29 frames from mango_2.mp4\n",
      "Extracted 25 frames from nectarine.mp4\n",
      "Extracted 36 frames from onion.mp4\n",
      "Extracted 34 frames from papaya.mp4\n",
      "Extracted 26 frames from peach.mp4\n",
      "Extracted 35 frames from pear.mp4\n",
      "Extracted 40 frames from pineapple.mp4\n",
      "Extracted 16 frames from plum.mp4\n",
      "Extracted 23 frames from red_apple.mp4\n",
      "Extracted 38 frames from rice.mp4\n",
      "Extracted 31 frames from spinach.mp4\n",
      "Extracted 35 frames from tomato.mp4\n",
      "Extracted 32 frames from yam.mp4\n",
      "Extracted 19 frames from zuccini.mp4\n",
      "Extracted 24 frames from zuccini_1.mp4\n"
     ]
    }
   ],
   "source": [
    "# source_directory = \"/Users/ivan/_AI/_TERM3/Capstone/Videos/\"  # Change this to your video directory path\n",
    "source_directory = \"./\"  # Change this to your video directory path\n",
    "process_videos_from_directory(source_directory)"
   ]
  },
  {
   "cell_type": "code",
   "execution_count": null,
   "id": "9fb6f052",
   "metadata": {},
   "outputs": [],
   "source": []
  }
 ],
 "metadata": {
  "kernelspec": {
   "display_name": "Python 3 (ipykernel)",
   "language": "python",
   "name": "python3"
  },
  "language_info": {
   "codemirror_mode": {
    "name": "ipython",
    "version": 3
   },
   "file_extension": ".py",
   "mimetype": "text/x-python",
   "name": "python",
   "nbconvert_exporter": "python",
   "pygments_lexer": "ipython3",
   "version": "3.9.18"
  }
 },
 "nbformat": 4,
 "nbformat_minor": 5
}
