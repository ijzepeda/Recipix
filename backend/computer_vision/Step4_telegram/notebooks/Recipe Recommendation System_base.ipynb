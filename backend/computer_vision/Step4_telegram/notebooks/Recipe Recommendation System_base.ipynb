{
 "cells": [
  {
   "cell_type": "markdown",
   "metadata": {},
   "source": [
    "# Recipe Recommendation System\n",
    "Creating, Testing, and Tuning unsupervised learning methods to recommend relevant recipes based on ingredient and category preference\n",
    "\n",
    "Workflow:\n",
    "1. Load, aggregate, clean, and tokenize recipe text data\n",
    "    - Identify Food Recipe Specific stop words that might be useful to ignore (e.g. measurements, numbers)\n",
    "    - It's likely that recipe attributes will depend heavily on ingredients and cooking methods, not necessarily\n",
    "    - Think twice about assigning words as stopwords, they might end up being useful.\n",
    "    - You may want to lemmatize the data to reduce sparseness; check lemmatization process to see if it strips important words, foods, or ingredients. Also, remove punctuation: it won't help for keyword \n",
    "2. ~~Create Word Embeddings using Word2Vec or GloVe Models (Consider using pretrained word embeddings)~~\n",
    "    - Discuss in detail the reason to choose one over the other for this context\n",
    "    - Setup neural network locally and run remotely on google colab\n",
    "    - I want to try tfidf and GloVe model, because tfidf doesn't take into account the order of words, which is isn't such a problem with recipes - it's the ingredients and cooking techniques that matter more. However, GloVe word vectors may be able to produce new words outside of the corpora text when summarizing the documents\n",
    "3. Compare Topic Extraction Methods\n",
    "    - ~~LDA2Vec~~\n",
    "    - LDA\n",
    "    - NNMF\n",
    "4. Generate keywords using keyword summarization and textrank\n",
    "    - Create methodology selectively assigns generated categories (e.g. LSA/NNMF Score must be above certain score threshold)\n",
    "    - Define metrics that evaluate the validity, breadth, and descriptive value of the assigned categories\n",
    "    - Identify Food Recipe Specific stop words that passed that might be suitable in the filter.\n",
    "5. Create extra features useful for search result ranking\n",
    "    - ~~Difficulty (Time, Number of Ingredients, Servings (inverse relationship),~~\n",
    "    - Import Unsupervised Generated Categories\n",
    "    - Create ratings that calculate overall weight.\n",
    "6. Find similarity scoring methods that would work best in this context. Some variation of Cosine Similarity will work best\n",
    "7. Create algorithm that utilizes similarity to sort recipes based on user-inputted queries, and sort base on other features as well.\n",
    "\n",
    "-----\n",
    "\n",
    "Regarding the Available Recipe Images\n",
    "\n",
    "Around 70,000 recipes out of the 125,000 have corresponding images, so it's possible to utilize these images to improve the models or create seperate, supplementary model\n",
    "\n",
    "Ideas:\n",
    "- Training a neural network to identify/predict/generate categories of foods based on their images\n"
   ]
  },
  {
   "cell_type": "markdown",
   "metadata": {},
   "source": [
    "### The Data\n",
    "Although I can no longer find the direct download, the link and code for the scraper the original user used to collect the data set is [here](https://github.com/rtlee9/recipe-box). This user collected the title, ingredients, and instructions from recipes found on Allrecipes.com, epicurious.com, and foodnetwork.com.\n",
    "\n",
    "For this project, the data was directly downloaded and uploaded for the creation of my own model. All the code present are of my own creation or significantly modified from the Thinkful curriculum. No other software sources were used verbatim within this project."
   ]
  },
  {
   "cell_type": "code",
   "execution_count": 1,
   "metadata": {},
   "outputs": [],
   "source": [
    "import pandas as pd\n",
    "import numpy as np\n",
    "import re\n",
    "import spacy"
   ]
  },
  {
   "cell_type": "code",
   "execution_count": 2,
   "metadata": {},
   "outputs": [],
   "source": [
    "allrecipes_raw = pd.read_json('recipes_raw_nosource_ar.json')"
   ]
  },
  {
   "cell_type": "code",
   "execution_count": 3,
   "metadata": {},
   "outputs": [
    {
     "data": {
      "text/html": [
       "<div>\n",
       "<style scoped>\n",
       "    .dataframe tbody tr th:only-of-type {\n",
       "        vertical-align: middle;\n",
       "    }\n",
       "\n",
       "    .dataframe tbody tr th {\n",
       "        vertical-align: top;\n",
       "    }\n",
       "\n",
       "    .dataframe thead th {\n",
       "        text-align: right;\n",
       "    }\n",
       "</style>\n",
       "<table border=\"1\" class=\"dataframe\">\n",
       "  <thead>\n",
       "    <tr style=\"text-align: right;\">\n",
       "      <th></th>\n",
       "      <th>title</th>\n",
       "      <th>ingredients</th>\n",
       "      <th>instructions</th>\n",
       "      <th>picture_link</th>\n",
       "    </tr>\n",
       "  </thead>\n",
       "  <tbody>\n",
       "    <tr>\n",
       "      <th>0</th>\n",
       "      <td>Slow Cooker Chicken and Dumplings</td>\n",
       "      <td>[4 skinless, boneless chicken breast halves AD...</td>\n",
       "      <td>Place the chicken, butter, soup, and onion in ...</td>\n",
       "      <td>55lznCYBbs2mT8BTx6BTkLhynGHzM.S</td>\n",
       "    </tr>\n",
       "  </tbody>\n",
       "</table>\n",
       "</div>"
      ],
      "text/plain": [
       "                               title  \\\n",
       "0  Slow Cooker Chicken and Dumplings   \n",
       "\n",
       "                                         ingredients  \\\n",
       "0  [4 skinless, boneless chicken breast halves AD...   \n",
       "\n",
       "                                        instructions  \\\n",
       "0  Place the chicken, butter, soup, and onion in ...   \n",
       "\n",
       "                      picture_link  \n",
       "0  55lznCYBbs2mT8BTx6BTkLhynGHzM.S  "
      ]
     },
     "execution_count": 3,
     "metadata": {},
     "output_type": "execute_result"
    }
   ],
   "source": [
    "allrecipes = allrecipes_raw.copy().T.reset_index().drop(columns = ['index'])\n",
    "allrecipes.head(1)"
   ]
  },
  {
   "cell_type": "code",
   "execution_count": 6,
   "metadata": {},
   "outputs": [
    {
     "data": {
      "text/plain": [
       "(125164, 4)"
      ]
     },
     "execution_count": 6,
     "metadata": {},
     "output_type": "execute_result"
    }
   ],
   "source": [
    "recipes = pd.concat([allrecipes, epicurious, foodnetwork]).reset_index(drop=True) # Concat does not reset indices\n",
    "recipes.shape"
   ]
  },
  {
   "cell_type": "code",
   "execution_count": 7,
   "metadata": {},
   "outputs": [
    {
     "data": {
      "text/plain": [
       "title             569\n",
       "ingredients       517\n",
       "instructions      691\n",
       "picture_link    42571\n",
       "dtype: int64"
      ]
     },
     "execution_count": 7,
     "metadata": {},
     "output_type": "execute_result"
    }
   ],
   "source": [
    "# Count of missing values by category\n",
    "recipes.isna().sum()"
   ]
  },
  {
   "cell_type": "code",
   "execution_count": 8,
   "metadata": {},
   "outputs": [
    {
     "data": {
      "text/plain": [
       "691"
      ]
     },
     "execution_count": 8,
     "metadata": {},
     "output_type": "execute_result"
    }
   ],
   "source": [
    "# Number recipes/rows that have any missing values besides missing pictures\n",
    "null_recs = recipes.copy().drop(columns = 'picture_link').T.isna().any()\n",
    "null_recs.sum()"
   ]
  },
  {
   "cell_type": "code",
   "execution_count": 9,
   "metadata": {},
   "outputs": [
    {
     "data": {
      "text/html": [
       "<div>\n",
       "<style scoped>\n",
       "    .dataframe tbody tr th:only-of-type {\n",
       "        vertical-align: middle;\n",
       "    }\n",
       "\n",
       "    .dataframe tbody tr th {\n",
       "        vertical-align: top;\n",
       "    }\n",
       "\n",
       "    .dataframe thead th {\n",
       "        text-align: right;\n",
       "    }\n",
       "</style>\n",
       "<table border=\"1\" class=\"dataframe\">\n",
       "  <thead>\n",
       "    <tr style=\"text-align: right;\">\n",
       "      <th></th>\n",
       "      <th>title</th>\n",
       "      <th>ingredients</th>\n",
       "      <th>instructions</th>\n",
       "      <th>picture_link</th>\n",
       "    </tr>\n",
       "  </thead>\n",
       "  <tbody>\n",
       "    <tr>\n",
       "      <th>5874</th>\n",
       "      <td>NaN</td>\n",
       "      <td>NaN</td>\n",
       "      <td>NaN</td>\n",
       "      <td>NaN</td>\n",
       "    </tr>\n",
       "    <tr>\n",
       "      <th>15020</th>\n",
       "      <td>NaN</td>\n",
       "      <td>NaN</td>\n",
       "      <td>NaN</td>\n",
       "      <td>NaN</td>\n",
       "    </tr>\n",
       "    <tr>\n",
       "      <th>15023</th>\n",
       "      <td>NaN</td>\n",
       "      <td>NaN</td>\n",
       "      <td>NaN</td>\n",
       "      <td>NaN</td>\n",
       "    </tr>\n",
       "    <tr>\n",
       "      <th>15025</th>\n",
       "      <td>NaN</td>\n",
       "      <td>NaN</td>\n",
       "      <td>NaN</td>\n",
       "      <td>NaN</td>\n",
       "    </tr>\n",
       "    <tr>\n",
       "      <th>15637</th>\n",
       "      <td>NaN</td>\n",
       "      <td>NaN</td>\n",
       "      <td>NaN</td>\n",
       "      <td>NaN</td>\n",
       "    </tr>\n",
       "  </tbody>\n",
       "</table>\n",
       "</div>"
      ],
      "text/plain": [
       "      title ingredients instructions picture_link\n",
       "5874    NaN         NaN          NaN          NaN\n",
       "15020   NaN         NaN          NaN          NaN\n",
       "15023   NaN         NaN          NaN          NaN\n",
       "15025   NaN         NaN          NaN          NaN\n",
       "15637   NaN         NaN          NaN          NaN"
      ]
     },
     "execution_count": 9,
     "metadata": {},
     "output_type": "execute_result"
    }
   ],
   "source": [
    "recipes[null_recs].head()"
   ]
  },
  {
   "cell_type": "code",
   "execution_count": 10,
   "metadata": {},
   "outputs": [
    {
     "data": {
      "text/plain": [
       "(124473, 4)"
      ]
     },
     "execution_count": 10,
     "metadata": {},
     "output_type": "execute_result"
    }
   ],
   "source": [
    "rows_to_drop = recipes[null_recs].index\n",
    "recipes = recipes.drop(index = rows_to_drop).reset_index(drop = True)\n",
    "recipes.shape"
   ]
  },
  {
   "cell_type": "code",
   "execution_count": 11,
   "metadata": {},
   "outputs": [
    {
     "data": {
      "text/plain": [
       "title           object\n",
       "ingredients     object\n",
       "instructions    object\n",
       "picture_link    object\n",
       "dtype: object"
      ]
     },
     "execution_count": 11,
     "metadata": {},
     "output_type": "execute_result"
    }
   ],
   "source": [
    "recipes.dtypes"
   ]
  },
  {
   "cell_type": "code",
   "execution_count": 12,
   "metadata": {},
   "outputs": [],
   "source": [
    "# Indexing rows with columns that only contain numbers or punctuation\n",
    "import string\n",
    "nc_ingred_index = [index for i, index in zip(recipes['ingredients'], recipes.index) if all(j.isdigit() or j in string.punctuation for j in i)]\n",
    "nc_title_index = [index for i, index in zip(recipes['title'], recipes.index) if all(j.isdigit() or j in string.punctuation for j in i)]\n",
    "nc_instr_index = [index for i, index in zip(recipes['instructions'], recipes.index) if all(j.isdigit() or j in string.punctuation for j in i)]\n"
   ]
  },
  {
   "cell_type": "code",
   "execution_count": 13,
   "metadata": {},
   "outputs": [
    {
     "data": {
      "text/plain": [
       "[1520, 0, 39]"
      ]
     },
     "execution_count": 13,
     "metadata": {},
     "output_type": "execute_result"
    }
   ],
   "source": [
    "# Checking number of rows in each category that are only punc/nums\n",
    "index_list = [nc_ingred_index, nc_title_index, nc_instr_index]\n",
    "[len(x) for x in index_list]"
   ]
  },
  {
   "cell_type": "code",
   "execution_count": 14,
   "metadata": {},
   "outputs": [
    {
     "name": "stdout",
     "output_type": "stream",
     "text": [
      "1551\n"
     ]
    },
    {
     "data": {
      "text/plain": [
       "(122922, 4)"
      ]
     },
     "execution_count": 14,
     "metadata": {},
     "output_type": "execute_result"
    }
   ],
   "source": [
    "# generating unique indices for index_list and dropping from dataframe\n",
    "# recipes without recipe instructions or ingredients are not useable\n",
    "from functools import reduce\n",
    "from operator import add\n",
    "inds_to_drop = set(reduce(add, index_list))\n",
    "print(len(inds_to_drop))\n",
    "recipes = recipes.drop(index=inds_to_drop).reset_index(drop=True)\n",
    "recipes.shape"
   ]
  },
  {
   "cell_type": "code",
   "execution_count": 15,
   "metadata": {},
   "outputs": [],
   "source": [
    "# Recipe instructions with less than 20 characters are not good recipes\n",
    "empty_instr_ind = [index for i, index in zip(recipes['instructions'], recipes.index) if len(i) < 20]\n",
    "recipes = recipes.drop(index = empty_instr_ind).reset_index(drop=True)"
   ]
  },
  {
   "cell_type": "code",
   "execution_count": 16,
   "metadata": {},
   "outputs": [
    {
     "data": {
      "text/plain": [
       "(122911, 4)"
      ]
     },
     "execution_count": 16,
     "metadata": {},
     "output_type": "execute_result"
    }
   ],
   "source": [
    "recipes.shape"
   ]
  },
  {
   "cell_type": "code",
   "execution_count": 17,
   "metadata": {},
   "outputs": [
    {
     "data": {
      "text/plain": [
       "title               0\n",
       "ingredients         0\n",
       "instructions        0\n",
       "picture_link    41687\n",
       "dtype: int64"
      ]
     },
     "execution_count": 17,
     "metadata": {},
     "output_type": "execute_result"
    }
   ],
   "source": [
    "recipes.isna().sum()"
   ]
  },
  {
   "cell_type": "code",
   "execution_count": 18,
   "metadata": {},
   "outputs": [
    {
     "data": {
      "text/plain": [
       "Series([], Name: ingredients, dtype: object)"
      ]
     },
     "execution_count": 18,
     "metadata": {},
     "output_type": "execute_result"
    }
   ],
   "source": [
    "# Checking for low ingredient recipes.\n",
    "#low_ingr_ind = [index for i, index in zip(recipes['ingredients'], recipes.index) if len(i) < 20]\n",
    "low_ingr_index = [index for i, index in zip(recipes['ingredients'], recipes.index) if i[0] == np.nan]\n",
    "len(low_ingr_index)\n",
    "recipes.loc[low_ingr_index, 'ingredients']"
   ]
  },
  {
   "cell_type": "code",
   "execution_count": 19,
   "metadata": {},
   "outputs": [
    {
     "data": {
      "text/plain": [
       "[]"
      ]
     },
     "execution_count": 19,
     "metadata": {},
     "output_type": "execute_result"
    }
   ],
   "source": [
    "# Searching for pseudo empty lists\n",
    "[index for i, index in zip(recipes['ingredients'], recipes.index) if np.nan in recipes.loc[index,'ingredients']]\n"
   ]
  },
  {
   "cell_type": "markdown",
   "metadata": {},
   "source": [
    "### Cleaning to Prepare for Tokenizing\n",
    "\n",
    "Cleaning Specifics:\n",
    "- Removing ADVERTISEMENT\n",
    "- Pruning dataset of rows with empty cells or inadequate recipes\n",
    "- Remove all punctuation, digits, and extraneous spacing"
   ]
  },
  {
   "cell_type": "code",
   "execution_count": 20,
   "metadata": {},
   "outputs": [],
   "source": [
    "# Removing ADVERTISEMENT text from ingredients list\n",
    "ingredients = []\n",
    "for ing_list in recipes['ingredients']:\n",
    "    clean_ings = [ing.replace('ADVERTISEMENT','').strip() for ing in ing_list]\n",
    "    if '' in clean_ings:\n",
    "        clean_ings.remove('')\n",
    "    ingredients.append(clean_ings)\n",
    "recipes['ingredients'] = ingredients"
   ]
  },
  {
   "cell_type": "code",
   "execution_count": 21,
   "metadata": {},
   "outputs": [
    {
     "data": {
      "text/plain": [
       "['4 skinless, boneless chicken breast halves',\n",
       " '2 tablespoons butter',\n",
       " '2 (10.75 ounce) cans condensed cream of chicken soup',\n",
       " '1 onion, finely diced',\n",
       " '2 (10 ounce) packages refrigerated biscuit dough, torn into pieces']"
      ]
     },
     "execution_count": 21,
     "metadata": {},
     "output_type": "execute_result"
    }
   ],
   "source": [
    "recipes.loc[0,'ingredients']"
   ]
  },
  {
   "cell_type": "code",
   "execution_count": 22,
   "metadata": {},
   "outputs": [
    {
     "data": {
      "text/plain": [
       "0    4 skinless, boneless chicken breast halves; 2 ...\n",
       "1    2 (10.75 ounce) cans condensed cream of mushro...\n",
       "2    1/2 cup packed brown sugar; 1/2 cup ketchup; 1...\n",
       "3    1 cup butter, softened; 1 cup white sugar; 1 c...\n",
       "4    8 ounces whole wheat rotini pasta; 3 cups fres...\n",
       "Name: ingredient_text, dtype: object"
      ]
     },
     "execution_count": 22,
     "metadata": {},
     "output_type": "execute_result"
    }
   ],
   "source": [
    "# Extracting ingredients from their lists and formatting as single strings\n",
    "recipes['ingredient_text'] = ['; '.join(ingredients) for ingredients in recipes['ingredients']]\n",
    "recipes['ingredient_text'].head()\n"
   ]
  },
  {
   "cell_type": "code",
   "execution_count": 23,
   "metadata": {},
   "outputs": [],
   "source": [
    "# Counting the number of ingredients used in each recipe\n",
    "recipes['ingredient_count'] = [len(ingredients) for ingredients in recipes['ingredients']]"
   ]
  },
  {
   "cell_type": "code",
   "execution_count": 24,
   "metadata": {},
   "outputs": [
    {
     "data": {
      "text/html": [
       "<div>\n",
       "<style scoped>\n",
       "    .dataframe tbody tr th:only-of-type {\n",
       "        vertical-align: middle;\n",
       "    }\n",
       "\n",
       "    .dataframe tbody tr th {\n",
       "        vertical-align: top;\n",
       "    }\n",
       "\n",
       "    .dataframe thead th {\n",
       "        text-align: right;\n",
       "    }\n",
       "</style>\n",
       "<table border=\"1\" class=\"dataframe\">\n",
       "  <thead>\n",
       "    <tr style=\"text-align: right;\">\n",
       "      <th></th>\n",
       "      <th>title</th>\n",
       "      <th>ingredients</th>\n",
       "      <th>instructions</th>\n",
       "      <th>picture_link</th>\n",
       "      <th>ingredient_text</th>\n",
       "      <th>ingredient_count</th>\n",
       "    </tr>\n",
       "  </thead>\n",
       "  <tbody>\n",
       "    <tr>\n",
       "      <th>0</th>\n",
       "      <td>Slow Cooker Chicken and Dumplings</td>\n",
       "      <td>[4 skinless, boneless chicken breast halves, 2...</td>\n",
       "      <td>Place the chicken, butter, soup, and onion in ...</td>\n",
       "      <td>55lznCYBbs2mT8BTx6BTkLhynGHzM.S</td>\n",
       "      <td>4 skinless, boneless chicken breast halves; 2 ...</td>\n",
       "      <td>5</td>\n",
       "    </tr>\n",
       "  </tbody>\n",
       "</table>\n",
       "</div>"
      ],
      "text/plain": [
       "                               title  \\\n",
       "0  Slow Cooker Chicken and Dumplings   \n",
       "\n",
       "                                         ingredients  \\\n",
       "0  [4 skinless, boneless chicken breast halves, 2...   \n",
       "\n",
       "                                        instructions  \\\n",
       "0  Place the chicken, butter, soup, and onion in ...   \n",
       "\n",
       "                      picture_link  \\\n",
       "0  55lznCYBbs2mT8BTx6BTkLhynGHzM.S   \n",
       "\n",
       "                                     ingredient_text  ingredient_count  \n",
       "0  4 skinless, boneless chicken breast halves; 2 ...                 5  "
      ]
     },
     "execution_count": 24,
     "metadata": {},
     "output_type": "execute_result"
    }
   ],
   "source": [
    "recipes.head(1)"
   ]
  },
  {
   "cell_type": "code",
   "execution_count": 25,
   "metadata": {},
   "outputs": [
    {
     "data": {
      "text/plain": [
       "'Slow Cooker Chicken and Dumplings 4 skinless, boneless chicken breast halves; 2 tablespoons butter; 2 (10.75 ounce) cans condensed cream of chicken soup; 1 onion, finely diced; 2 (10 ounce) packages refrigerated biscuit dough, torn into pieces Place the chicken, butter, soup, and onion in a slow cooker, and fill with enough water to cover.\\nCover, and cook for 5 to 6 hours on High. About 30 minutes before serving, place the torn biscuit dough in the slow cooker. Cook until the dough is no longer raw in the center.\\n'"
      ]
     },
     "execution_count": 25,
     "metadata": {},
     "output_type": "execute_result"
    }
   ],
   "source": [
    "all_text = recipes['title'] + ' ' + recipes['ingredient_text'] + ' ' + recipes['instructions']\n",
    "all_text[0]"
   ]
  },
  {
   "cell_type": "code",
   "execution_count": 26,
   "metadata": {},
   "outputs": [],
   "source": [
    "# Clean_text Function\n",
    "import string\n",
    "import re\n",
    "\n",
    "def clean_text(documents):\n",
    "    cleaned_text = []\n",
    "    for doc in documents:\n",
    "        doc = doc.translate(str.maketrans('', '', string.punctuation)) # Remove Punctuation\n",
    "        doc = re.sub(r'\\d+', '', doc) # Remove Digits\n",
    "        doc = doc.replace('\\n',' ') # Remove New Lines\n",
    "        doc = doc.strip() # Remove Leading White Space\n",
    "        doc = re.sub(' +', ' ', doc) # Remove multiple white spaces\n",
    "        cleaned_text.append(doc)\n",
    "    return cleaned_text\n",
    "\n",
    "# Cleaning Text\n",
    "cleaned_text = clean_text(all_text)"
   ]
  },
  {
   "cell_type": "code",
   "execution_count": 27,
   "metadata": {},
   "outputs": [
    {
     "data": {
      "text/plain": [
       "'Brown Sugar Meatloaf cup packed brown sugar cup ketchup pounds lean ground beef cup milk eggs teaspoons salt teaspoon ground black pepper small onion chopped teaspoon ground ginger cup finely crushed saltine cracker crumbs Preheat oven to degrees F degrees C Lightly grease a x inch loaf pan Press the brown sugar in the bottom of the prepared loaf pan and spread the ketchup over the sugar In a mixing bowl mix thoroughly all remaining ingredients and shape into a loaf Place on top of the ketchup Bake in preheated oven for hour or until juices are clear'"
      ]
     },
     "execution_count": 27,
     "metadata": {},
     "output_type": "execute_result"
    }
   ],
   "source": [
    "cleaned_text[2]"
   ]
  },
  {
   "cell_type": "markdown",
   "metadata": {},
   "source": [
    "### Tokenizing Using Spacy"
   ]
  },
  {
   "cell_type": "markdown",
   "metadata": {},
   "source": [
    "For this tokenization, we will lemmatize the words. This is will help create a denser word embeddings. However, no POS tagging, know entities, or noun_phrases will be parsed and added."
   ]
  },
  {
   "cell_type": "code",
   "execution_count": 28,
   "metadata": {},
   "outputs": [
    {
     "data": {
      "text/plain": [
       "'Brown Sugar Meatloaf cup pack brown sugar cup ketchup pound lean ground beef cup milk egg teaspoon salt teaspoon grind black pepper small onion chop teaspoon ground ginger cup finely crush saltine cracker crumb Preheat oven degree F degree C lightly grease x inch loaf pan Press brown sugar prepared loaf pan spread ketchup sugar mix bowl mix thoroughly remain ingredient shape loaf Place ketchup Bake preheat oven hour juice clear'"
      ]
     },
     "execution_count": 28,
     "metadata": {},
     "output_type": "execute_result"
    }
   ],
   "source": [
    "# Testing Strategies and Code\n",
    "nlp = spacy.load(\"en_core_web_sm\")\n",
    "' '.join([token.lemma_ for token in nlp(cleaned_text[2]) if not token.is_stop])"
   ]
  },
  {
   "cell_type": "markdown",
   "metadata": {},
   "source": [
    "My current strategy is to strip down the text as much as possible. In this case that means lemmatizing words and removing stop words. The goal here is not text prediction, but similarity measures and keyword extraction, which don't require the semantic granularity that stop words and non-lemmatized words might provide."
   ]
  },
  {
   "cell_type": "code",
   "execution_count": 29,
   "metadata": {},
   "outputs": [],
   "source": [
    "# Tokenizing Function that lemmatizes words and removes Stop Words\n",
    "def text_tokenizer(documents):\n",
    "    tokenized_documents = []\n",
    "    for doc in documents:\n",
    "        tok_doc = ' '.join([token.lemma_ for token in nlp(doc) if not token.is_stop])\n",
    "        tokenized_documents.append(tok_doc)\n",
    "    return tokenized_documents"
   ]
  },
  {
   "cell_type": "code",
   "execution_count": 30,
   "metadata": {},
   "outputs": [],
   "source": [
    "# Tokenizing Function to run in parallel\n",
    "def text_tokenizer_mp(doc):\n",
    "    tok_doc = ' '.join([token.lemma_ for token in nlp(doc) if not token.is_stop])\n",
    "    return tok_doc"
   ]
  },
  {
   "cell_type": "code",
   "execution_count": 31,
   "metadata": {},
   "outputs": [
    {
     "name": "stdout",
     "output_type": "stream",
     "text": [
      "Number of processors:  8\n"
     ]
    }
   ],
   "source": [
    "import multiprocessing as mp\n",
    "print(\"Number of processors: \", mp.cpu_count())"
   ]
  },
  {
   "cell_type": "code",
   "execution_count": null,
   "metadata": {},
   "outputs": [],
   "source": [
    "# Parallelzing tokenizing process\n",
    "pool = mp.Pool(mp.cpu_count())\n",
    "tokenized_text = pool.map(text_tokenizer_mp, [doc for doc in cleaned_text])"
   ]
  },
  {
   "cell_type": "code",
   "execution_count": null,
   "metadata": {},
   "outputs": [],
   "source": [
    "from tqdm import tqdm\n",
    "\n",
    "pool = mp.Pool(mp.cpu_count())\n",
    "\n",
    "# Use tqdm to wrap around the map function to add a progress bar\n",
    "tokenized_text = list(tqdm(pool.imap(text_tokenizer_mp, [doc for doc in cleaned_text]), total=len(cleaned_text)))"
   ]
  },
  {
   "cell_type": "code",
   "execution_count": 32,
   "metadata": {},
   "outputs": [
    {
     "name": "stderr",
     "output_type": "stream",
     "text": [
      "100%|██████████████████████████████████████████████████████████████████████████████████████████████████████████████| 122911/122911 [35:16<00:00, 58.07it/s]\n"
     ]
    }
   ],
   "source": [
    "import concurrent.futures\n",
    "from tqdm import tqdm\n",
    "\n",
    "\n",
    "# Use concurrent.futures to create a ThreadPoolExecutor\n",
    "with concurrent.futures.ThreadPoolExecutor() as executor:\n",
    "    # Map the function over the documents and wrap with tqdm for progress bar\n",
    "    tokenized_text = list(tqdm(executor.map(text_tokenizer_mp, cleaned_text), total=len(cleaned_text)))\n"
   ]
  },
  {
   "cell_type": "code",
   "execution_count": 33,
   "metadata": {},
   "outputs": [],
   "source": [
    "# Save the tokenized_text variable as a csv in order to return to it;\n",
    "# Do not attempt to run the parser above, it will simply take too long\n",
    "# Reload the csv from file insted\n",
    "pd.Series(tokenized_text).to_csv('tokenized_text.csv')"
   ]
  },
  {
   "cell_type": "code",
   "execution_count": 34,
   "metadata": {},
   "outputs": [
    {
     "data": {
      "text/plain": [
       "'Slow Cooker Chicken Dumplings skinless boneless chicken breast half tablespoon butter ounce can condense cream chicken soup onion finely dice ounce package refrigerate biscuit dough tear piece place chicken butter soup onion slow cooker fill water cover Cover cook hour High minute serve place tear biscuit dough slow cooker Cook dough long raw center'"
      ]
     },
     "execution_count": 34,
     "metadata": {},
     "output_type": "execute_result"
    }
   ],
   "source": [
    "tokenized_text[0]"
   ]
  },
  {
   "cell_type": "markdown",
   "metadata": {},
   "source": [
    "### Creating Word Embeddings\n",
    "\n",
    "- TF-IDF\n",
    "- Pre-trained GloVe Word Embeddings\n",
    "- GloVe Embeddings trained on the recipe corpora\n",
    "\n",
    "In an attempt to create dense word embeddings, I could find no reliable examples to follow that integrate GloVe or Word2Vec with document topic modeling."
   ]
  },
  {
   "cell_type": "code",
   "execution_count": 35,
   "metadata": {},
   "outputs": [
    {
     "name": "stdout",
     "output_type": "stream",
     "text": [
      "(122911, 49793)\n",
      "49793\n"
     ]
    },
    {
     "name": "stderr",
     "output_type": "stream",
     "text": [
      "D:\\Anaconda\\lib\\site-packages\\sklearn\\utils\\deprecation.py:87: FutureWarning: Function get_feature_names is deprecated; get_feature_names is deprecated in 1.0 and will be removed in 1.2. Please use get_feature_names_out instead.\n",
      "  warnings.warn(msg, category=FutureWarning)\n"
     ]
    }
   ],
   "source": [
    "from sklearn.feature_extraction.text import TfidfVectorizer\n",
    "\n",
    "vectorizer = TfidfVectorizer(lowercase = True,\n",
    "                            ngram_range = (1,1))\n",
    "\n",
    "text_tfidf = vectorizer.fit_transform(tokenized_text)\n",
    "tfidf_words = vectorizer.get_feature_names()\n",
    "print(text_tfidf.shape)\n",
    "print(len(tfidf_words))"
   ]
  },
  {
   "cell_type": "markdown",
   "metadata": {},
   "source": [
    "## Topic Modeling\n",
    "- LDA\n",
    "- NNMF\n",
    "\n",
    "The ultimate goal with topic modeling is to group documents together and generate category words using TextRank. These category words can then be used to further refine the recommendation query\n",
    "\n",
    "------\n",
    "\n",
    "LDA and NNMF extract topic models by finding similar subgroups of text within the corpora of recipes (or other text documents). However"
   ]
  },
  {
   "cell_type": "code",
   "execution_count": 36,
   "metadata": {},
   "outputs": [
    {
     "data": {
      "text/plain": [
       "(122911, 49793)"
      ]
     },
     "execution_count": 36,
     "metadata": {},
     "output_type": "execute_result"
    }
   ],
   "source": [
    "text_tfidf.shape"
   ]
  },
  {
   "cell_type": "code",
   "execution_count": 37,
   "metadata": {},
   "outputs": [
    {
     "data": {
      "text/plain": [
       "(122911, 50)"
      ]
     },
     "execution_count": 37,
     "metadata": {},
     "output_type": "execute_result"
    }
   ],
   "source": [
    "from sklearn.decomposition import LatentDirichletAllocation as LDA\n",
    "\n",
    "lda = LDA(n_components = 50,\n",
    "          n_jobs = -1,\n",
    "          max_iter = 100)\n",
    "text_lda = lda.fit_transform(text_tfidf)\n",
    "text_lda.shape"
   ]
  },
  {
   "cell_type": "code",
   "execution_count": 39,
   "metadata": {},
   "outputs": [
    {
     "name": "stderr",
     "output_type": "stream",
     "text": [
      "D:\\Anaconda\\lib\\site-packages\\sklearn\\decomposition\\_nmf.py:1422: FutureWarning: `alpha` was deprecated in version 1.0 and will be removed in 1.2. Use `alpha_W` and `alpha_H` instead\n",
      "  warnings.warn(\n"
     ]
    },
    {
     "data": {
      "text/plain": [
       "(122911, 50)"
      ]
     },
     "execution_count": 39,
     "metadata": {},
     "output_type": "execute_result"
    }
   ],
   "source": [
    "from sklearn.decomposition import NMF\n",
    "\n",
    "nmf = NMF(alpha=0.0,\n",
    "         init='nndsvdar',\n",
    "         l1_ratio=0.0,\n",
    "         max_iter = 100,\n",
    "         n_components = 50,\n",
    "         solver='cd')\n",
    "\n",
    "text_nmf = nmf.fit_transform(text_tfidf)\n",
    "text_nmf.shape"
   ]
  },
  {
   "cell_type": "markdown",
   "metadata": {},
   "source": [
    "Models were arbitrarily set to 50 topics. Unfortunately, neither NNMF nor LDA have the ability to calculate the percentage of variance that they capture from the original tfidf matrix. So 50 topics is purely a shot in the dark."
   ]
  },
  {
   "cell_type": "markdown",
   "metadata": {},
   "source": [
    "Next Steps:\n",
    "1. Document x Topic Matrix\n",
    "2. Word x Topic Matrix"
   ]
  },
  {
   "cell_type": "markdown",
   "metadata": {},
   "source": [
    "## Exploring Topics by Document"
   ]
  },
  {
   "cell_type": "code",
   "execution_count": 40,
   "metadata": {},
   "outputs": [],
   "source": [
    "# variable dependencies:\n",
    "text_series = pd.Series(all_text)\n",
    "\n",
    "def docs_by_tops(top_mat, topic_range = (0,0), doc_range = (0,2)):\n",
    "    for i in range(topic_range[0], topic_range[1]):\n",
    "        topic_scores = pd.Series(top_mat[:,i])\n",
    "        doc_index = topic_scores.sort_values(ascending = False)[doc_range[0]:doc_range[1]].index\n",
    "        for j, index in enumerate(doc_index, doc_range[0]):\n",
    "            print('Topic #{}'.format(i),\n",
    "                  '\\nDocument #{}'.format(j),\n",
    "                  '\\nTopic Score: {}\\n\\n'.format(topic_scores[index]),\n",
    "                  text_series[index], '\\n\\n')"
   ]
  },
  {
   "cell_type": "code",
   "execution_count": 41,
   "metadata": {},
   "outputs": [
    {
     "name": "stdout",
     "output_type": "stream",
     "text": [
      "Topic #0 \n",
      "Document #0 \n",
      "Topic Score: 0.9178869056235167\n",
      "\n",
      " Mushroom Fricassee with Creamy Polenta 6 tablespoons plus 1 teaspoon extra-virgin olive oil; 4 medium shallots, halved and thinly sliced lengthwise; Kosher salt; 10 ounces mixed domestic and wild mushrooms, sliced or cut into bite-sized pieces (about 4 cups); 2 sprigs fresh thyme; 2 cups Chicken Reduction, plus more as needed, recipe follows; 1 tablespoon preserved black truffles, optional; 1 tablespoon chopped fresh chives; Pinch of crushed red pepper; 3 cups Creamy Polenta, recipe follows; 6 pounds chicken bones (some meat on them is fine); 3 tablespoons olive oil; 2 sprigs fresh rosemary, bruised with the dull side of a chef's knife; 1 clove garlic, coarsely chopped; 2 celery stalks, coarsely chopped; 1 medium onion, coarsely chopped; 1 carrot, coarsely chopped; 4 whole canned tomatoes, coarsely chopped; 2 cups dry white wine; 4 cups heavy cream; 4 cups whole milk; 1 tablespoon kosher salt; 1 cup coarse polenta; 4 tablespoons unsalted butter; 1/3 cup freshly grated Parmigiano-Reggiano cheese Watch how to make this recipe.\n",
      "In a medium saucepan, heat the 6 tablespoons of olive oil over medium heat. Add the shallots, season lightly with salt, and cook, stirring, until the shallots just begin to color, about 4 minutes. Add the mushrooms, thyme, and the remaining 1 teaspoon olive oil, and cook, stirring occasionally, until the mushrooms release their liquid, about 2 minutes. Add the Chicken Reduction, bring to a boil, then reduce to a simmer. Cook, stirring occasionally, until the liquid is reduced by half and has a saucy consistency, 2 to 3 minutes. Stir in the preserved truffles (if using). If the mixture thickens too much -- you want the mushrooms to be swimming in the sauce but there should be a mushroom in every bite -- add 2 tablespoons of the Chicken Reduction to thin it out a bit. Stir in the chives and crushed red pepper.\n",
      "Divide the Creamy Polenta among serving bowls. Top with the mushrooms and their cooking liquid and serve immediately.\n",
      "Heat a convection oven to 425 degrees F or a conventional oven to 450 degrees F.\n",
      "Rinse the chicken bones and pat them dry. Spread them out on two rimmed baking sheets in a single layer with a little room between the bones. Roast until golden brown, about 1 hour, flipping and turning the bones every 15 minutes or so.\n",
      "In a large stockpot, heat the olive oil over medium heat. Add the rosemary and garlic and cook, stirring, until fragrant, about 1 minute. Add the celery, onion, and carrot, and cook, stirring occasionally, until the vegetables are well browned, about 10 minutes. Add the tomatoes, and cook, stirring, until some of the juices evaporate, 2 to 3 minutes. Add the wine and cook until almost all of it has evaporated. Add the chicken bones (with juices and drippings) to the stockpot, then add enough water to cover everything by about 2 inches (about 6 quarts). Increase the heat to medium-high, bring to a boil, then reduce the heat to medium to cook at a gentle simmer, stirring often to break up the bones and emulsify the fat, until the chicken is falling off the bones and the stock has a full flavor, 2 to 2 1/2 hours.\n",
      "Remove the chicken bones and strain the broth several times through a chinois or other fine-mesh strainer. If you want to make and use the reduction right away, spoon off any visible fat floating on top of the stock. Otherwise, chill the stock until the fat solidifies on top, and then scrape off and discard most of it.\n",
      "Pour the defatted stock into a saucepan and bring to a boil over high heat. Reduce the heat slightly so the stock is not boiling so furiously. As the stock simmers, some of it will remain on the sides of the saucepan; use a spoon or ladle to pour some of the stock over this to deglaze it. (This will further increase the intensity of the flavor.) Continue simmering until the stock has darkened, thickened, and reduced to about 4 cups, about 30 minutes. The reduction can be refrigerated for 3 days or frozen for up to 2 months. Yield: 4 cups\n",
      "In a large, heavy-based saucepan over medium-high heat, heat the cream and milk until warm, about 5 minutes. Whisk in the salt and keep whisking until the liquid is very frothy (like a cappuccino) and hot. While still whisking, slowly rain the polenta into the pot. Continue to whisk until the granules swell, about 8 minutes. At this point, switch to a wooden spoon to stir the polenta. (It will get too thick for the whisk.) Keep stirring until the polenta has begun to thicken, about 5 minutes. Turn the heat down to medium and cook until it evenly begins to bubble. Reduce the heat to low, cover with a tight-fitting lid, and cook, stirring every 10 to 15 minutes, until cooked through and the liquid has reduced, about 1 1/2 hours. The polenta might look \"done\" sooner, but it does continue to soften, so be patient. During this time, a skin might form on the bottom of the pan, which is fine.\n",
      "Just before serving, raise the heat to medium-high, stir in the butter and the cheese, and cook, stirring, until the butter is melted, then take the pot off the heat. If the polenta looks thin, don't worry, as it will thicken as it cools. Yield: 8 to 10 servings \n",
      "\n",
      "\n",
      "Topic #0 \n",
      "Document #1 \n",
      "Topic Score: 0.9155997420952504\n",
      "\n",
      " Borshch with Beef and Pork 1 pound beef chuck or shin trimmed of excess fat; 1 pound meaty pork spareribs; 14 cups water; 2 medium onions; 2 medium carrots, peeled; 1 medium parsnip, peeled; 1 bay leaf; 6 peppercorns; Salt and freshly ground black pepper; 2 medium beets (about 1 pound), washed and stemmed; 1 slice good smoky bacon, chopped; 3 tablespoons unsalted butter; 1 medium onion, chopped; 1 large carrot, peeled and grated; 1 large green pepper, cored, seeded and diced; 2 cups chopped green cabbage; 3 medium boiling potatoes, peeled and cut into 1 1/2-inch chunks; 1 (16-ounce) can plum tomatoes, drained and chopped; Salt; 1 small tart Granny Smith apple, peeled, cored and diced; 3 medium cloves garlic, minced; 1 teaspoon freshly ground black pepper; 2 tablespoons minced parsley leaves; 1 1/2 to 2 tablespoons distilled white vinegar; 1 1/2 to 2 tablespoons sugar; Sour cream, chopped fresh dill, and thinly sliced scallions, for serving Combine the beef, pork and water in a large stockpot and bring to a boil over high heat. Skim thoroughly and reduce the heat to low. Add the rest of the stock ingredients, and season with salt and pepper, to taste. Simmer partially covered, until the meat is tender, about 1 1/2 hours. Strain the stock, removing the meats. You should have 10 to 11 cups of stock. Discard the marrow bones. Cut the beef and the pork into 1 1/2-inch chunks, discarding the pork bones. Reserve the meats.\n",
      "While the stock is cooking, preheat the oven to 375 degrees F. Wrap the beets separately in aluminum foil and bake until a tip of a small knife slides in easily, about 45 minutes. Unwrap the beets, plunge them into a bowl of cold water, then slip off the skins. Grate the beets a 4-sided box grater or shred in a food processor, and set aside\n",
      "In a large, heavy soup pot, cook the bacon in the butter over medium heat until it renders its fat. Add the onion, carrot, and pepper, and saute until softened, about 7 minutes. Add the cabbage, and saute, stirring, for another 7 minutes. Add the stock, the potatoes, tomatoes, apple, and the reserved meats. Season with salt to taste, and simmer until the potatoes are almost tender, about 15 minutes. Stir in the reserved beets and cook the soup over medium-low heat until all the vegetables are soft and the flavors have melded, about 25 minutes more.\n",
      "With a mortar and pestle, pound the garlic, pepper, and parsley to a paste and add it to the soup. (If you don't have a mortar and pestle, just use ground pepper, crushed garlic and minced parsley.) Stir in the vinegar and the sugar, adjusting the balance of sweet and sour, to taste. Let the borshch stand for 10 minutes before serving (or better serve the next day.) To serve, add a teaspoon of sour cream to each bowl and sprinkle liberally with dill and scallions. Instruct the diners to mix the sour cream well into the soup. \n",
      "\n",
      "\n",
      "Topic #0 \n",
      "Document #2 \n",
      "Topic Score: 0.9126736114011703\n",
      "\n",
      " Pan Sauteed Butter Chicken and Potatoes 2 chicken thighs, bone-in, skin-on; Kosher salt and freshly ground black pepper; 4 tablespoons canola oil; 6 tablespoons unsalted butter; 3 cloves garlic, peeled and kept whole; 2 sprigs fresh thyme; Kosher salt; 3 fingerling potatoes, peeled and diced small; 3 Yukon gold potatoes, peeled and diced small; 3 purple Peruvian potatoes, peeled and diced small; 1 small carrot, peeled and diced; Canola oil, as needed; Unsalted butter, as needed; Freshly ground black pepper; 1 tablespoon canola oil; 3 tablespoons unsalted butter, divided; 1/2 small white onion, peeled and minced; 2 cloves garlic, peeled and minced; 1/2 small shallot, peeled and minced; 2 cups Sauvignon Blanc wine; 1 cup chicken stock; Kosher salt and freshly ground white pepper; 1/4 cup chopped fresh Italian parsley leaves, plus 2 teaspoons, for garnish; 1/2 cup chopped fresh chives plus 2 teaspoons, for garnish Chicken:\n",
      "Preheat the oven to 375 degrees F.\n",
      "Season the chicken thighs with salt and pepper, to taste. In a medium oven-proof frying pan over high heat, add the oil and butter and stir to combine. Add garlic and thyme and cook until the butter is slightly browned. Add the chicken, skin side, down and let it sit in the pan so the skin becomes crispy and golden. While the skin is crisping up, spoon the hot butter/oil over the thighs. Once the skin is crisp, about 5 minutes, and releases from the pan easily, turn the chicken over. Continue cooking for another 5 minutes to sear the meat. Put in the oven and roast for approximately 10 to 15 minutes. Depending on how large the thighs are, check for doneness.\n",
      "Potatoes:\n",
      "Have an ice bath ready before beginning. Bring a medium stockpot of salted water to boil over medium heat. Blanch each of the varieties of potatoes and carrots; starting with the fingerlings, Yukon gold, carrots and purple Peruvians last. Cook each batch until tender, but still with a little bite. After blanching each set of vegetables, use a strainer remove all of the vegetables out of the water and dunk them in the ice water bath. Once they are cold to the touch, drain and set aside. Right before serving, get a medium fry pan heated over high heat, add the a little oil and some butter. Once the butter is melted and hot, add the potatoes and carrots and saute until heated through. Season with salt and pepper, to taste.\n",
      "For the Herbed Jus:\n",
      "In a medium saucepan over medium heat, add the oil and 1 tablespoon butter. When the butter has melted, add the onions, garlic and shallots. Cook slowly to soften and bring out the flavors. Do not burn the garlic. Reduce the heat to low if the mixture starts to brown. Stir in the Sauvignon Blanc and allow it to reduce by half. Add the chicken stock and continue cooking at a simmer to reduce again by half. Taste the jus and if it seems a bit too tart and sharp, add more butter to smooth it out. (If you want to make the jus into a thicker sauce, you can add some heavy cream.) Adjust the seasoning with salt and pepper, to taste. When the jus is ready, add the 1/4 cup parsley and 1/2 cup chives right before serving to maintain the bright green color.\n",
      "Assembly:\n",
      "Put a large serving spoon of heated, seasoned potatoes and carrots in the center of each serving plate, letting some of them spill to the edges. Arrange 1 chicken thigh on top of the vegetables, skin side up. Ladle the jus around each plate and garnish the top of the chicken with a small sprinkling of the minced parsley and chives. \n",
      "\n",
      "\n",
      "Topic #1 \n",
      "Document #0 \n",
      "Topic Score: 0.31359648563351417\n",
      "\n",
      " Fresh Broccoli Salad 2 cups cooked broccoli florets; 6 cherry tomatoes, cut in half; 1/8 cup red onion slivers (Recommended: Ready Pac); 1/4 cup fresh pearl-size mozzarella(Recommended: Cantare); 1/4 cup red wine vinaigrette (Recommended: Briana's); Pepper Mill In a large bowl, toss together all ingredients, except black pepper.\n",
      "Divide among 2 chilled salad plates. Serve with freshly ground pepper. \n",
      "\n",
      "\n",
      "Topic #1 \n",
      "Document #1 \n",
      "Topic Score: 0.28409281016201415\n",
      "\n",
      " Asparagus with Prosciutto 1 1/4 pounds thin asparagus spears, washed and dried; 1 lemon, juiced; Extra-virgin olive oil, for drizzling; 1/4 pound thinly sliced prosciutto di Parma For asparagus, snap off tough ends of spears where they naturally give when bent. Place spears into 1-inch of boiling water. Cover the pan and cook asparagus for 3 or 4 minutes, until spears are just tender but remain bright green in color, about 3 to 4 minutes.\n",
      "Drain and cold shock the spears in a colander under cool water. Return cooked asparagus to skillet and coat with lemon juice and a drizzle of extra-virgin olive oil.\n",
      "Remove bundles of several spears at a time from the pan and wrap with sliced prosciutto. Pile assembled bundles on a serving plate. \n",
      "\n",
      "\n",
      "Topic #1 \n",
      "Document #2 \n",
      "Topic Score: 0.2748826141865978\n",
      "\n",
      " Asparagus Bundles 2 pounds fresh asparagus, ends trimmed; 12 slices bacon; 1/2 cup light brown sugar; 1/2 cup (1 stick) butter; 1 tablespoon soy sauce; 1/2 teaspoon garlic salt; 1/4 teaspoon freshly ground pepper Preheat the oven to 400 degrees F.\n",
      "Divide the asparagus spears into 12 bundles. Carefully wrap 1 piece of bacon around each bundle, starting about 1/2 inch from the bottom of the tips. Secure the bacon-wrapped spears with a toothpick. Lay the bundles in a low-sided casserole dish.\n",
      "In a medium saucepan, combine the brown sugar, butter, soy sauce, garlic salt and pepper. Bring the mixture to a boil. Pour the hot sugar mixture over the asparagus bundles. Transfer the dish to the oven and roast until the spears have begun to wilt and the bacon looks fully cooked, about 25 minutes. Remove the toothpicks before serving. \n",
      "\n",
      "\n",
      "Topic #2 \n",
      "Document #0 \n",
      "Topic Score: 0.6759738431145645\n",
      "\n",
      " Pop's Dill Pickles 8 pounds small pickling cucumbers; 4 cups water; 4 cups distilled white vinegar; 3/4 cup white sugar; 1/2 cup pickling salt; 3 tablespoons pickling spice, wrapped in cheesecloth; 7 1-quart canning jars with lids and rings; 7 heads fresh dill; 7 cloves garlic Place cucumbers in a large pot and cover with ice cubes. Let them sit for at least 2 hours but no more than 8. Drain and pat dry.\n",
      "Place the water, vinegar, sugar, pickling salt, and pickling spice into a saucepan. Bring to boil, then simmer for 15 minutes.\n",
      "Sterilize the jars and lids in boiling water for at least 5 minutes. Pack the cucumbers into the hot, sterilized jars, filling the jars to within 1/2 inch of the top. Place 1 dill head and 1 clove of garlic into each jar. Pour the hot pickling liquid into the jars, filling to within 1/4 inch of the rim. Wipe the rims of the jars with a moist paper towel to remove any food residue. Top with lids, and screw on rings.\n",
      "Place a rack in the bottom of a large stockpot and fill halfway with water. Bring to a boil over high heat, then carefully lower the jars into the pot using a holder. Leave a 2 inch space between the jars. Pour in more boiling water if necessary until the water level is at least 1 inch above the tops of the jars. Bring the water to a full boil, cover the pot, and process for 5 minutes, or the time recommended by your county Extension agent.\n",
      "Remove the jars from the stockpot and place onto a cloth-covered or wood surface, several inches apart, until cool. Once cool, press the top of each lid with a finger, ensuring that the seal is tight (lid does not move up or down at all). If any jars have not sealed properly, refrigerate them and eat within two weeks. Store in a cool, dark area, and wait at least 1 week before opening.\n",
      " \n",
      "\n",
      "\n",
      "Topic #2 \n",
      "Document #1 \n",
      "Topic Score: 0.6714392390303136\n",
      "\n",
      " Red Pepper and Onion Relish 24 red bell peppers - halved, seeded, and thinly sliced; 7 onions, halved and thinly sliced; 3 cups white sugar; 3 cups vinegar; 3 tablespoons salt; 10 half-pint canning jars with lids and rings Combine red bell peppers, onions, sugar, vinegar, and salt in a large pot; bring to a boil. Reduce heat and simmer until vegetables are tender, about 30 minutes.\n",
      "Sterilize the jars and lids in boiling water for at least 5 minutes. Pack relish into hot, sterilized jars, filling to within 1/2 inch of the top. Run a knife or thin spatula around the insides of the jars after they have been filled to remove any air bubbles. Wipe the rims of the jars with a moist paper towel to remove any food residue. Top with lids and screw on rings.\n",
      "Place a rack in the bottom of a large stockpot and fill halfway with water. Bring to a boil and lower jars into the boiling water using a holder. Leave a 2-inch space between the jars. Pour in more boiling water if necessary to bring the water level to at least 1 inch above the tops of the jars. Bring the water to a rolling boil, cover the pot, and process for 15 minutes.\n",
      "Remove the jars from the stockpot and place onto a cloth-covered or wood surface, several inches apart, until cool. Once cool, press the top of each lid with a finger, ensuring that the seal is tight (lid does not move up or down at all). Store in a cool, dark area.\n",
      " \n",
      "\n",
      "\n",
      "Topic #2 \n",
      "Document #2 \n",
      "Topic Score: 0.662035319382958\n",
      "\n",
      " Sweet Tomato Relish 15 ripe tomatoes - peeled, seeded, and chopped; 4 Granny Smith apples - peeled, cored, and chopped; 5 sweet onions, chopped; 2 cups white sugar; 5 fluid ounces white vinegar; 1 tablespoon pickling spice, bundled in cheesecloth; 6 1-pint canning jars with lids and rings Combine tomatoes, apples, onions, sugar, vinegar, and pickling spice bundle in a large pot; bring to a boil and cook together about 10 minutes, stirring occasionally.\n",
      "Sterilize the jars and lids in boiling water for at least 5 minutes. Pack the tomato mixture into the hot, sterilized jars, filling the jars to within 1/4 inch of the top. Run a knife or a thin spatula around the insides of the jars after they have been filled to remove any air bubbles. Wipe the rims of the jars with a moist paper towel to remove any food residue. Top with lids and screw on rings.\n",
      "Place a rack in the bottom of a large stockpot and fill halfway with water. Bring to a boil and lower jars into the boiling water using a holder. Leave a 2-inch space between the jars. Pour in more boiling water if necessary to bring the water level to at least 1 inch above the tops of the jars. Bring the water to a rolling boil, cover the pot, and process for 40 minutes.\n",
      "Remove the jars from the stockpot and place onto a cloth-covered or wood surface, several inches apart, until cool. Once cool, press the top of each lid with a finger, ensuring that the seal is tight (lid does not move up or down at all). Store in a cool, dark area.\n",
      " \n",
      "\n",
      "\n"
     ]
    }
   ],
   "source": [
    "docs_by_tops(text_lda,(0,3),(0,3))"
   ]
  },
  {
   "cell_type": "code",
   "execution_count": 42,
   "metadata": {},
   "outputs": [
    {
     "name": "stdout",
     "output_type": "stream",
     "text": [
      "Topic #0 \n",
      "Document #0 \n",
      "Topic Score: 0.0324239576703085\n",
      "\n",
      " Black Olive Spread 1 (10 ounce) can black olives; 3 tablespoons freshly grated Parmesan cheese; 1 clove garlic, chopped; 1 tablespoon extra virgin olive oil Place olives, Parmesan cheese, and garlic (if using) in a food processor. Add olive oil slowly while running. Process until smooth.\n",
      " \n",
      "\n",
      "\n",
      "Topic #0 \n",
      "Document #1 \n",
      "Topic Score: 0.031130205619076996\n",
      "\n",
      " Roasted-Garlic Oil  6 large garlic cloves, peeled, halved; 1 tablespoon olive oil; 1 cup extra-virgin olive oil Preheat oven to 350°F. Place garlic cloves and 1 tablespoon olive oil in small ovenproof skillet; stir to coat. Roast in oven until garlic is just golden, shaking pan occasionally, about 15 minutes. Add extra-virgin olive oil; cool in skillet. Transfer oil and garlic to jar. Seal tightly; store in refrigerator up to 2 weeks (keep garlic in oil for flavor and looks, but use only oil in recipes).\n",
      "Preheat oven to 350°F. Place garlic cloves and 1 tablespoon olive oil in small ovenproof skillet; stir to coat. Roast in oven until garlic is just golden, shaking pan occasionally, about 15 minutes. Add extra-virgin olive oil; cool in skillet. Transfer oil and garlic to jar. Seal tightly; store in refrigerator up to 2 weeks (keep garlic in oil for flavor and looks, but use only oil in recipes). \n",
      "\n",
      "\n",
      "Topic #0 \n",
      "Document #2 \n",
      "Topic Score: 0.030817096278642955\n",
      "\n",
      " Garlic Oil 8 cloves garlic; 2 cups extra-virgin olive oil Crush garlic cloves with the back of a knife on a flat surface; remove peel. Pour olive oil in a jar and add garlic cloves. Cover and refrigerate until flavors blend, 2 to 5 days.\n",
      " \n",
      "\n",
      "\n",
      "Topic #1 \n",
      "Document #0 \n",
      "Topic Score: 0.08939695260232736\n",
      "\n",
      " Blueberry Buttermilk Coffeecake 1/2 cup butter; 1 1/3 cups white sugar; 2 eggs; 1 teaspoon vanilla extract; 2 cups buttermilk; 4 cups all-purpose flour; 3 teaspoons baking powder; 1 teaspoon baking soda; 1 teaspoon salt; 2 cups blueberries; 2/3 cup all-purpose flour; 2/3 cup white sugar; 6 tablespoons butter, softened Preheat oven to 350 degrees F (175 degrees C). Grease and flour a 9x13 inch pan. Sift together 4 cups flour, baking powder, baking soda and salt. Set aside.\n",
      "In a large bowl, cream together 1/2 cup butter and 1 1/3 cup sugar until light and fluffy. Beat in the eggs one at a time, then stir in the vanilla. Beat in the flour mixture alternately with the buttermilk, mixing just until incorporated. Sir in blueberries. Pour batter into prepared pan. In a small bowl, combine 2/3 cup flour and 2/3 cup sugar. cut in 6 tablespoons butter until mixture resembles coarse crumbs. Sprinkle over top of batter.\n",
      "Bake in the preheated oven for 45 to 60 minutes, or until a toothpick inserted into the center of the cake comes out clean. Allow to cool.\n",
      " \n",
      "\n",
      "\n",
      "Topic #1 \n",
      "Document #1 \n",
      "Topic Score: 0.08303579831566185\n",
      "\n",
      " Cinnamon Coffee Cake 1 cup brown sugar; 1 cup white sugar; 2 1/4 cups all-purpose flour; 3/4 cup butter, melted; 1 teaspoon vanilla extract; 1 teaspoon baking soda; 1 teaspoon baking powder; 2 teaspoons ground cinnamon; 1/2 teaspoon ground ginger; 1 egg; 1 cup buttermilk; 1/4 cup confectioners' sugar Preheat oven to 375 degrees F (190 degrees C). Lightly grease and flour a 9x5 inch baking pan.\n",
      "In a large bowl, combine brown sugar, white sugar and flour. Stir in melted butter until mixture resembles coarse crumbs. Add vanilla extract. Mix in baking soda, baking powder, cinnamon and ginger. Reserve 1/4 cup this mixture to be used as topping.\n",
      "In a separate bowl, beat together egg and buttermilk; stir slowly into flour mixture. Pour batter into prepared pan. Sprinkle batter with reserved topping.\n",
      "Bake in preheated oven for 20 to 30 minutes, until a toothpick inserted into center of the cake comes out clean. Sprinkle with powdered sugar and serve.\n",
      " \n",
      "\n",
      "\n",
      "Topic #1 \n",
      "Document #2 \n",
      "Topic Score: 0.08267994078390795\n",
      "\n",
      " Moist Yellow Cake 1 cup butter; 2 1/2 cups white sugar; 3 eggs; 1 1/2 teaspoons vanilla extract; 2 1/2 cups buttermilk; 3 3/4 cups all-purpose flour; 2 1/4 teaspoons baking powder; 2 1/2 teaspoons baking soda Preheat oven to 350 degrees F (175 degrees C). Grease and flour two 9x13 inch pans. Sift together the flour, baking powder and baking soda. Set aside.\n",
      "In a large bowl, cream together the butter and sugar until light and fluffy. Beat in the eggs one at a time, then stir in the vanilla. Beat in the flour mixture alternately with the buttermilk, mixing just until incorporated. Pour batter into prepared pans.\n",
      "Bake in the preheated oven for 35 to 40 minutes, or until a toothpick inserted into the center of the cake comes out clean. Allow to cool.\n",
      " \n",
      "\n",
      "\n",
      "Topic #2 \n",
      "Document #0 \n",
      "Topic Score: 0.08058070184465554\n",
      "\n",
      " Chicken Taco Filling 1 (1.25 ounce) package dry taco seasoning mix; 1 cup chicken broth; 1 pound skinless, boneless chicken breasts Mix chicken broth and taco seasoning in a bowl.\n",
      "Place chicken breasts in a slow cooker and pour chicken broth mixture over chicken.\n",
      "Cover and cook on Low for 6 to 8 hours.\n",
      "Shred chicken to serve.\n",
      " \n",
      "\n",
      "\n",
      "Topic #2 \n",
      "Document #1 \n",
      "Topic Score: 0.07995049995986583\n",
      "\n",
      " Chicken Piccata 4 (6-ounce) chicken breasts; 2 cups all-purpose flour, seasoned with salt and pepper; 1/4 cup olive oil; 1/4 cup lemon juice; 2 cups chicken stock; 1 tablespoon capers; 1/3 cup unsalted sweet cream butter Dust the chicken breasts with the seasoned flour; shake of any excess. Heat the olive oil in a heavy sided medium saute pan over medium heat and then add the chicken breasts. Saute until golden brown on both sides. Once the chicken breasts are browned, drain the oil and add the lemon juice, chicken stock, and capers to the pan with the chicken. Reduce for about 5 minutes, turning the chicken breasts halfway through. The chicken is done when it is firm to the touch. Turn off the heat and add the butter, stirring until melted. Put 1 chicken breast on each of 4 plates and drizzle with remainder of the sauce. \n",
      "\n",
      "\n",
      "Topic #2 \n",
      "Document #2 \n",
      "Topic Score: 0.07942318412964634\n",
      "\n",
      " Chicken Voila 4 skinless, boneless chicken breast halves - cut into bite-size pieces; salt and pepper to taste; 2 cloves garlic, minced; 1/2 cup all-purpose flour; 1 tablespoon vegetable oil; 1 tablespoon butter; 1 (14.5 ounce) can chicken broth Place chicken in a bowl, and season with salt, pepper and garlic. Sprinkle the flour over the chicken pieces and toss to coat.\n",
      "Heat the oil and butter in a large skillet over medium heat. Shake the excess flour off of the chicken, and reserve in the bowl. Place the chicken in the hot pan, and brown on all sides. Remove from the pan, and keep warm.\n",
      "Whisk some of the chicken broth into the flour in the bowl until smooth. Stir this into the drippings in the skillet, then stir in the remaining broth. Bring to a boil, then reduce the heat to low, and return the chicken pieces to the skillet. Simmer over medium heat until the chicken is cooked through, and the sauce has thickened. Taste, and season with additional salt and pepper if desired.\n",
      " \n",
      "\n",
      "\n"
     ]
    }
   ],
   "source": [
    "docs_by_tops(text_nmf,(0,3),(0,3))"
   ]
  },
  {
   "cell_type": "code",
   "execution_count": 43,
   "metadata": {},
   "outputs": [
    {
     "name": "stdout",
     "output_type": "stream",
     "text": [
      "Topic #1 \n",
      "Document #90000 \n",
      "Topic Score: 0.0\n",
      "\n",
      " Seitan Flares  1 pound seitan, torn or cut into chunks large enough to fit loosely on the grill grate, or skewered; Extra-virgin olive oil; 1/4 cup of your favorite hot sauce, Frank's Red Hot Cayenne Pepper Sauce preferred; 3 tablespoons pure maple syrup; 1/4 cup freshly squeezed lime juice; 1/2 teaspoon salt; Ground cayenne pepper (the more, the hotter!); 2 tablespoons chopped fresh oregano (optional) Heat the grill to medium-high. Prepare the seitan: Marinate the seitan in the olive oil to cover for 1 hour. Grill the seitan until lightly browned, 3 to 5 minutes or longer, turning often. Transfer to a bowl. Meanwhile, make the sauce, if using: In a glass measure, whisk together the hot sauce, maple syrup, lime juice, salt, and cayenne pepper to taste. Microwave the mixture for 1 minute or until fairly hot, or whisk the mixture together in a small saucepan and place it over direct heat on the grill until it is hot, 4 to 5 minutes, or longer depending on the grill. Add the mixture to the seitan bowl and stir gently to combine, or coat the seitan if it is skewered. Finish with the optional oregano. Serve with extra sauce and celery sticks.\n",
      "Heat the grill to medium-high.\n",
      "Prepare the seitan: Marinate the seitan in the olive oil to cover for 1 hour. Grill the seitan until lightly browned, 3 to 5 minutes or longer, turning often. Transfer to a bowl.\n",
      "Meanwhile, make the sauce, if using: In a glass measure, whisk together the hot sauce, maple syrup, lime juice, salt, and cayenne pepper to taste. Microwave the mixture for 1 minute or until fairly hot, or whisk the mixture together in a small saucepan and place it over direct heat on the grill until it is hot, 4 to 5 minutes, or longer depending on the grill. Add the mixture to the seitan bowl and stir gently to combine, or coat the seitan if it is skewered. Finish with the optional oregano. Serve with extra sauce and celery sticks. \n",
      "\n",
      "\n"
     ]
    }
   ],
   "source": [
    "docs_by_tops(text_nmf,(1,2),(90000,90001))"
   ]
  },
  {
   "cell_type": "markdown",
   "metadata": {},
   "source": [
    "### Exploring Topics by words"
   ]
  },
  {
   "cell_type": "code",
   "execution_count": 44,
   "metadata": {},
   "outputs": [
    {
     "data": {
      "text/plain": [
       "(122911, 50)"
      ]
     },
     "execution_count": 44,
     "metadata": {},
     "output_type": "execute_result"
    }
   ],
   "source": [
    "text_nmf.shape"
   ]
  },
  {
   "cell_type": "code",
   "execution_count": 45,
   "metadata": {},
   "outputs": [
    {
     "data": {
      "text/plain": [
       "(49793, 122911)"
      ]
     },
     "execution_count": 45,
     "metadata": {},
     "output_type": "execute_result"
    }
   ],
   "source": [
    "text_tfidf.T.shape"
   ]
  },
  {
   "cell_type": "code",
   "execution_count": 46,
   "metadata": {},
   "outputs": [],
   "source": [
    "# Function for best topic words using cosine similarity\n",
    "# Variable Dependency:\n",
    "word_series = pd.Series(tfidf_words)\n",
    "\n",
    "def words_by_tops(tfidf_mat, top_mat, topic_range=(0,0), n_words=10):\n",
    "    topic_word_scores = tfidf_mat.T * top_mat\n",
    "    for i in range(topic_range[0],topic_range[1]):\n",
    "        word_scores = pd.Series(topic_word_scores[:,i])\n",
    "        word_index = word_scores.sort_values(ascending = False)[:n_words].index\n",
    "        print('\\nTopic #{}'.format(i))\n",
    "        for index in word_index:\n",
    "            print(word_series[index],'\\t\\t', word_scores[index])"
   ]
  },
  {
   "cell_type": "code",
   "execution_count": 47,
   "metadata": {},
   "outputs": [
    {
     "name": "stdout",
     "output_type": "stream",
     "text": [
      "\n",
      "Topic #0\n",
      "add \t\t 734.0362691984005\n",
      "heat \t\t 692.5046909294416\n",
      "chicken \t\t 685.2526945568399\n",
      "minute \t\t 598.7594257809909\n",
      "pepper \t\t 583.7095106972351\n",
      "cup \t\t 572.1528301663466\n",
      "cook \t\t 558.6591791455244\n",
      "onion \t\t 506.8448979019633\n",
      "salt \t\t 502.02809606818414\n",
      "tablespoon \t\t 478.29238563168565\n",
      "\n",
      "Topic #1\n",
      "asparagus \t\t 39.97122640413298\n",
      "cup \t\t 29.009231940358276\n",
      "pepper \t\t 23.171334318100513\n",
      "salt \t\t 21.980391016311735\n",
      "minute \t\t 21.087024760679302\n",
      "tablespoon \t\t 20.996229375431298\n",
      "oil \t\t 20.94419646103796\n",
      "teaspoon \t\t 19.174414364530733\n",
      "heat \t\t 18.83849408407568\n",
      "add \t\t 18.28926658254095\n",
      "\n",
      "Topic #2\n",
      "jar \t\t 56.603310864281205\n",
      "cup \t\t 36.35988365822209\n",
      "water \t\t 29.516557137533823\n",
      "sugar \t\t 27.255009920684877\n",
      "lid \t\t 25.307188908492293\n",
      "minute \t\t 24.12999061943288\n",
      "pepper \t\t 23.536051617355998\n",
      "teaspoon \t\t 22.206176756377282\n",
      "salt \t\t 21.997607924075204\n",
      "heat \t\t 21.82763458172198\n"
     ]
    }
   ],
   "source": [
    "# Keywords using LDA\n",
    "words_by_tops(text_tfidf, text_lda, (0,3), 10)"
   ]
  },
  {
   "cell_type": "code",
   "execution_count": 48,
   "metadata": {},
   "outputs": [
    {
     "name": "stdout",
     "output_type": "stream",
     "text": [
      "\n",
      "Topic #0\n",
      "oil \t\t 28.19700597439011\n",
      "olive \t\t 23.915625065117847\n",
      "pepper \t\t 23.50711571121119\n",
      "garlic \t\t 21.58086711651612\n",
      "salt \t\t 19.28267091731731\n",
      "cup \t\t 18.346383087831125\n",
      "tablespoon \t\t 18.124691159467904\n",
      "add \t\t 16.753147511483427\n",
      "chop \t\t 16.042031691504846\n",
      "heat \t\t 15.403578097142859\n",
      "\n",
      "Topic #1\n",
      "cup \t\t 81.46874370062099\n",
      "flour \t\t 76.70742475668544\n",
      "sugar \t\t 69.7242364611337\n",
      "bake \t\t 65.96442325204444\n",
      "teaspoon \t\t 53.145675033695284\n",
      "egg \t\t 47.116932803280385\n",
      "butter \t\t 46.925469301468645\n",
      "vanilla \t\t 41.55810562679816\n",
      "degree \t\t 41.49717654567342\n",
      "soda \t\t 36.94078380629167\n",
      "\n",
      "Topic #2\n",
      "chicken \t\t 132.12901067494755\n",
      "breast \t\t 29.634174262388022\n",
      "pepper \t\t 28.874856128304117\n",
      "cup \t\t 27.13921894104644\n",
      "heat \t\t 25.08875148188066\n",
      "minute \t\t 24.910876906732618\n",
      "cook \t\t 24.529563792206964\n",
      "oil \t\t 23.709216412831832\n",
      "tablespoon \t\t 22.799620309566496\n",
      "sauce \t\t 21.446329614105302\n"
     ]
    }
   ],
   "source": [
    "# Words using NMF\n",
    "words_by_tops(text_tfidf, text_nmf, (0,3), 10)"
   ]
  },
  {
   "cell_type": "markdown",
   "metadata": {},
   "source": [
    "Ultimately, in looking at the first three topic documents for LDA and NNMF, it appears that NNMF made more distinct topic models: 0. Spreads, 1. Cakes 2. Chicken.\n",
    "\n",
    "LDA on the other made two good topics 0. Salads and 1. Gravies. The third topic, I am unable to tell what it's clustering on. Therefore, we will proceed with NNMF topics to generate"
   ]
  },
  {
   "cell_type": "markdown",
   "metadata": {},
   "source": [
    "### Keyword Extraction of Topics Using TextRank"
   ]
  },
  {
   "cell_type": "markdown",
   "metadata": {},
   "source": [
    "The purpose of using TextRank to extract keywords \n",
    "\n",
    "------------\n",
    "\n",
    "Consider using a smaller corpora size, so as to more quickly code. Then run the entire copora.\n",
    "Using the time module to test out corpora sizes.\n",
    "\n",
    "Using TextRank to summarize the topics by extracting words involves many variables:\n",
    "- Deciding how many of the top documents each the topic should be summarized?\n",
    "    - Arbitrarily: top 100, evaluate, then only decrease from there.\n",
    "- Should TextRank then be performed once over the selected topic corpora, or should it be run individually and then scores added to make an aggregated rank?\n",
    "    - For the sake of simplicity it should probably only be run over the entire corpora\n",
    "- How many top ranked words should be used?\n",
    "    - Check out the top ranks words first, then decide.\n",
    "    - Arbitrarily choosing the top 20 ranked\n",
    "- Then once keywords are decided, to how many documents should those words be assigned the extract?\n",
    "    - I think it depends on the number of documents used to find the categorical keywords.\n",
    "- Once we're satisfied with a TextRank strategy, we need to this about which method to use to extract topics (NNMF, LDA) as well as whether we'll NNMF, LDA, or TextRank to extract keywords."
   ]
  },
  {
   "cell_type": "code",
   "execution_count": 49,
   "metadata": {},
   "outputs": [],
   "source": [
    "# Pulling the top one-hundred documents ranked in similarity among Topic #1\n",
    "text_index = pd.Series(text_nmf[:,1]).sort_values(ascending = False)[:100].index\n",
    "text_4summary = pd.Series(cleaned_text)[text_index]\n",
    "\n",
    "# Manually Creating a list of recipe stop\n",
    "recipe_stopwords = ['cup','cups','ingredient','ingredients','teaspoon','tablespoon','oven']\n"
   ]
  },
  {
   "cell_type": "markdown",
   "metadata": {},
   "source": [
    "Because recipes are a very niche subject matter within NLP, it's likely that there are no list of stopwords related to this domain. The above 'recipe_stopwords' will thus be manually updated as necessary."
   ]
  },
  {
   "cell_type": "code",
   "execution_count": 50,
   "metadata": {},
   "outputs": [
    {
     "name": "stdout",
     "output_type": "stream",
     "text": [
      "Execution Time: {} seconds 2.0621414184570312\n"
     ]
    }
   ],
   "source": [
    "# generating topic filter\n",
    "import time\n",
    "start_time = time.time()\n",
    "\n",
    "parsed_texts = nlp(' '.join(text_4summary)) \n",
    "kw_filts = set([str(word) for word in parsed_texts \n",
    "                if (word.pos_== ('NOUN' or 'ADJ' or 'VERB'))\n",
    "                and str(word) not in recipe_stopwords])\n",
    "\n",
    "print('Execution Time: {} seconds', time.time() - start_time)\n"
   ]
  },
  {
   "cell_type": "code",
   "execution_count": 65,
   "metadata": {},
   "outputs": [
    {
     "name": "stderr",
     "output_type": "stream",
     "text": [
      "C:\\Users\\preet\\AppData\\Local\\Temp\\ipykernel_14140\\14376556.py:14: FutureWarning: reindexing with a non-unique Index is deprecated and will raise in a future version.\n",
      "  adjacency.loc[str(word), neighbors] += 1\n"
     ]
    },
    {
     "ename": "ValueError",
     "evalue": "cannot reindex on an axis with duplicate labels",
     "output_type": "error",
     "traceback": [
      "\u001b[1;31m---------------------------------------------------------------------------\u001b[0m",
      "\u001b[1;31mValueError\u001b[0m                                Traceback (most recent call last)",
      "\u001b[1;32m~\\AppData\\Local\\Temp\\ipykernel_14140\\14376556.py\u001b[0m in \u001b[0;36m<module>\u001b[1;34m\u001b[0m\n\u001b[0;32m     12\u001b[0m         \u001b[0mneighbors\u001b[0m \u001b[1;33m=\u001b[0m \u001b[1;33m[\u001b[0m\u001b[0mstr\u001b[0m\u001b[1;33m(\u001b[0m\u001b[0mnextword\u001b[0m\u001b[1;33m)\u001b[0m \u001b[1;32mfor\u001b[0m \u001b[0mnextword\u001b[0m \u001b[1;32min\u001b[0m \u001b[0mnextwords\u001b[0m \u001b[1;32mif\u001b[0m \u001b[0mstr\u001b[0m\u001b[1;33m(\u001b[0m\u001b[0mnextword\u001b[0m\u001b[1;33m)\u001b[0m \u001b[1;32min\u001b[0m \u001b[0mkw_filts\u001b[0m\u001b[1;33m]\u001b[0m\u001b[1;33m\u001b[0m\u001b[1;33m\u001b[0m\u001b[0m\n\u001b[0;32m     13\u001b[0m         \u001b[1;32mif\u001b[0m \u001b[0mneighbors\u001b[0m\u001b[1;33m:\u001b[0m\u001b[1;33m\u001b[0m\u001b[1;33m\u001b[0m\u001b[0m\n\u001b[1;32m---> 14\u001b[1;33m             \u001b[0madjacency\u001b[0m\u001b[1;33m.\u001b[0m\u001b[0mloc\u001b[0m\u001b[1;33m[\u001b[0m\u001b[0mstr\u001b[0m\u001b[1;33m(\u001b[0m\u001b[0mword\u001b[0m\u001b[1;33m)\u001b[0m\u001b[1;33m,\u001b[0m \u001b[0mneighbors\u001b[0m\u001b[1;33m]\u001b[0m \u001b[1;33m+=\u001b[0m \u001b[1;36m1\u001b[0m\u001b[1;33m\u001b[0m\u001b[1;33m\u001b[0m\u001b[0m\n\u001b[0m\u001b[0;32m     15\u001b[0m \u001b[1;33m\u001b[0m\u001b[0m\n\u001b[0;32m     16\u001b[0m \u001b[0mprint\u001b[0m\u001b[1;33m(\u001b[0m\u001b[0madjacency\u001b[0m\u001b[1;33m)\u001b[0m\u001b[1;33m\u001b[0m\u001b[1;33m\u001b[0m\u001b[0m\n",
      "\u001b[1;32mD:\\Anaconda\\lib\\site-packages\\pandas\\core\\indexing.py\u001b[0m in \u001b[0;36m__setitem__\u001b[1;34m(self, key, value)\u001b[0m\n\u001b[0;32m    714\u001b[0m \u001b[1;33m\u001b[0m\u001b[0m\n\u001b[0;32m    715\u001b[0m         \u001b[0miloc\u001b[0m \u001b[1;33m=\u001b[0m \u001b[0mself\u001b[0m \u001b[1;32mif\u001b[0m \u001b[0mself\u001b[0m\u001b[1;33m.\u001b[0m\u001b[0mname\u001b[0m \u001b[1;33m==\u001b[0m \u001b[1;34m\"iloc\"\u001b[0m \u001b[1;32melse\u001b[0m \u001b[0mself\u001b[0m\u001b[1;33m.\u001b[0m\u001b[0mobj\u001b[0m\u001b[1;33m.\u001b[0m\u001b[0miloc\u001b[0m\u001b[1;33m\u001b[0m\u001b[1;33m\u001b[0m\u001b[0m\n\u001b[1;32m--> 716\u001b[1;33m         \u001b[0miloc\u001b[0m\u001b[1;33m.\u001b[0m\u001b[0m_setitem_with_indexer\u001b[0m\u001b[1;33m(\u001b[0m\u001b[0mindexer\u001b[0m\u001b[1;33m,\u001b[0m \u001b[0mvalue\u001b[0m\u001b[1;33m,\u001b[0m \u001b[0mself\u001b[0m\u001b[1;33m.\u001b[0m\u001b[0mname\u001b[0m\u001b[1;33m)\u001b[0m\u001b[1;33m\u001b[0m\u001b[1;33m\u001b[0m\u001b[0m\n\u001b[0m\u001b[0;32m    717\u001b[0m \u001b[1;33m\u001b[0m\u001b[0m\n\u001b[0;32m    718\u001b[0m     \u001b[1;32mdef\u001b[0m \u001b[0m_validate_key\u001b[0m\u001b[1;33m(\u001b[0m\u001b[0mself\u001b[0m\u001b[1;33m,\u001b[0m \u001b[0mkey\u001b[0m\u001b[1;33m,\u001b[0m \u001b[0maxis\u001b[0m\u001b[1;33m:\u001b[0m \u001b[0mint\u001b[0m\u001b[1;33m)\u001b[0m\u001b[1;33m:\u001b[0m\u001b[1;33m\u001b[0m\u001b[1;33m\u001b[0m\u001b[0m\n",
      "\u001b[1;32mD:\\Anaconda\\lib\\site-packages\\pandas\\core\\indexing.py\u001b[0m in \u001b[0;36m_setitem_with_indexer\u001b[1;34m(self, indexer, value, name)\u001b[0m\n\u001b[0;32m   1689\u001b[0m         \u001b[1;32mif\u001b[0m \u001b[0mtake_split_path\u001b[0m\u001b[1;33m:\u001b[0m\u001b[1;33m\u001b[0m\u001b[1;33m\u001b[0m\u001b[0m\n\u001b[0;32m   1690\u001b[0m             \u001b[1;31m# We have to operate column-wise\u001b[0m\u001b[1;33m\u001b[0m\u001b[1;33m\u001b[0m\u001b[0m\n\u001b[1;32m-> 1691\u001b[1;33m             \u001b[0mself\u001b[0m\u001b[1;33m.\u001b[0m\u001b[0m_setitem_with_indexer_split_path\u001b[0m\u001b[1;33m(\u001b[0m\u001b[0mindexer\u001b[0m\u001b[1;33m,\u001b[0m \u001b[0mvalue\u001b[0m\u001b[1;33m,\u001b[0m \u001b[0mname\u001b[0m\u001b[1;33m)\u001b[0m\u001b[1;33m\u001b[0m\u001b[1;33m\u001b[0m\u001b[0m\n\u001b[0m\u001b[0;32m   1692\u001b[0m         \u001b[1;32melse\u001b[0m\u001b[1;33m:\u001b[0m\u001b[1;33m\u001b[0m\u001b[1;33m\u001b[0m\u001b[0m\n\u001b[0;32m   1693\u001b[0m             \u001b[0mself\u001b[0m\u001b[1;33m.\u001b[0m\u001b[0m_setitem_single_block\u001b[0m\u001b[1;33m(\u001b[0m\u001b[0mindexer\u001b[0m\u001b[1;33m,\u001b[0m \u001b[0mvalue\u001b[0m\u001b[1;33m,\u001b[0m \u001b[0mname\u001b[0m\u001b[1;33m)\u001b[0m\u001b[1;33m\u001b[0m\u001b[1;33m\u001b[0m\u001b[0m\n",
      "\u001b[1;32mD:\\Anaconda\\lib\\site-packages\\pandas\\core\\indexing.py\u001b[0m in \u001b[0;36m_setitem_with_indexer_split_path\u001b[1;34m(self, indexer, value, name)\u001b[0m\n\u001b[0;32m   1710\u001b[0m             \u001b[1;32mfrom\u001b[0m \u001b[0mpandas\u001b[0m \u001b[1;32mimport\u001b[0m \u001b[0mSeries\u001b[0m\u001b[1;33m\u001b[0m\u001b[1;33m\u001b[0m\u001b[0m\n\u001b[0;32m   1711\u001b[0m \u001b[1;33m\u001b[0m\u001b[0m\n\u001b[1;32m-> 1712\u001b[1;33m             \u001b[0mvalue\u001b[0m \u001b[1;33m=\u001b[0m \u001b[0mself\u001b[0m\u001b[1;33m.\u001b[0m\u001b[0m_align_series\u001b[0m\u001b[1;33m(\u001b[0m\u001b[0mindexer\u001b[0m\u001b[1;33m,\u001b[0m \u001b[0mSeries\u001b[0m\u001b[1;33m(\u001b[0m\u001b[0mvalue\u001b[0m\u001b[1;33m)\u001b[0m\u001b[1;33m)\u001b[0m\u001b[1;33m\u001b[0m\u001b[1;33m\u001b[0m\u001b[0m\n\u001b[0m\u001b[0;32m   1713\u001b[0m \u001b[1;33m\u001b[0m\u001b[0m\n\u001b[0;32m   1714\u001b[0m         \u001b[1;31m# Ensure we have something we can iterate over\u001b[0m\u001b[1;33m\u001b[0m\u001b[1;33m\u001b[0m\u001b[0m\n",
      "\u001b[1;32mD:\\Anaconda\\lib\\site-packages\\pandas\\core\\indexing.py\u001b[0m in \u001b[0;36m_align_series\u001b[1;34m(self, indexer, ser, multiindex_indexer)\u001b[0m\n\u001b[0;32m   2122\u001b[0m                         \u001b[1;32mreturn\u001b[0m \u001b[0mser\u001b[0m\u001b[1;33m.\u001b[0m\u001b[0m_values\u001b[0m\u001b[1;33m.\u001b[0m\u001b[0mcopy\u001b[0m\u001b[1;33m(\u001b[0m\u001b[1;33m)\u001b[0m\u001b[1;33m\u001b[0m\u001b[1;33m\u001b[0m\u001b[0m\n\u001b[0;32m   2123\u001b[0m \u001b[1;33m\u001b[0m\u001b[0m\n\u001b[1;32m-> 2124\u001b[1;33m                     \u001b[1;32mreturn\u001b[0m \u001b[0mser\u001b[0m\u001b[1;33m.\u001b[0m\u001b[0mreindex\u001b[0m\u001b[1;33m(\u001b[0m\u001b[0mnew_ix\u001b[0m\u001b[1;33m)\u001b[0m\u001b[1;33m.\u001b[0m\u001b[0m_values\u001b[0m\u001b[1;33m\u001b[0m\u001b[1;33m\u001b[0m\u001b[0m\n\u001b[0m\u001b[0;32m   2125\u001b[0m \u001b[1;33m\u001b[0m\u001b[0m\n\u001b[0;32m   2126\u001b[0m                 \u001b[1;31m# 2 dims\u001b[0m\u001b[1;33m\u001b[0m\u001b[1;33m\u001b[0m\u001b[0m\n",
      "\u001b[1;32mD:\\Anaconda\\lib\\site-packages\\pandas\\core\\series.py\u001b[0m in \u001b[0;36mreindex\u001b[1;34m(self, *args, **kwargs)\u001b[0m\n\u001b[0;32m   4670\u001b[0m                 )\n\u001b[0;32m   4671\u001b[0m             \u001b[0mkwargs\u001b[0m\u001b[1;33m.\u001b[0m\u001b[0mupdate\u001b[0m\u001b[1;33m(\u001b[0m\u001b[1;33m{\u001b[0m\u001b[1;34m\"index\"\u001b[0m\u001b[1;33m:\u001b[0m \u001b[0mindex\u001b[0m\u001b[1;33m}\u001b[0m\u001b[1;33m)\u001b[0m\u001b[1;33m\u001b[0m\u001b[1;33m\u001b[0m\u001b[0m\n\u001b[1;32m-> 4672\u001b[1;33m         \u001b[1;32mreturn\u001b[0m \u001b[0msuper\u001b[0m\u001b[1;33m(\u001b[0m\u001b[1;33m)\u001b[0m\u001b[1;33m.\u001b[0m\u001b[0mreindex\u001b[0m\u001b[1;33m(\u001b[0m\u001b[1;33m**\u001b[0m\u001b[0mkwargs\u001b[0m\u001b[1;33m)\u001b[0m\u001b[1;33m\u001b[0m\u001b[1;33m\u001b[0m\u001b[0m\n\u001b[0m\u001b[0;32m   4673\u001b[0m \u001b[1;33m\u001b[0m\u001b[0m\n\u001b[0;32m   4674\u001b[0m     \u001b[1;33m@\u001b[0m\u001b[0mdeprecate_nonkeyword_arguments\u001b[0m\u001b[1;33m(\u001b[0m\u001b[0mversion\u001b[0m\u001b[1;33m=\u001b[0m\u001b[1;32mNone\u001b[0m\u001b[1;33m,\u001b[0m \u001b[0mallowed_args\u001b[0m\u001b[1;33m=\u001b[0m\u001b[1;33m[\u001b[0m\u001b[1;34m\"self\"\u001b[0m\u001b[1;33m,\u001b[0m \u001b[1;34m\"labels\"\u001b[0m\u001b[1;33m]\u001b[0m\u001b[1;33m)\u001b[0m\u001b[1;33m\u001b[0m\u001b[1;33m\u001b[0m\u001b[0m\n",
      "\u001b[1;32mD:\\Anaconda\\lib\\site-packages\\pandas\\core\\generic.py\u001b[0m in \u001b[0;36mreindex\u001b[1;34m(self, *args, **kwargs)\u001b[0m\n\u001b[0;32m   4964\u001b[0m \u001b[1;33m\u001b[0m\u001b[0m\n\u001b[0;32m   4965\u001b[0m         \u001b[1;31m# perform the reindex on the axes\u001b[0m\u001b[1;33m\u001b[0m\u001b[1;33m\u001b[0m\u001b[0m\n\u001b[1;32m-> 4966\u001b[1;33m         return self._reindex_axes(\n\u001b[0m\u001b[0;32m   4967\u001b[0m             \u001b[0maxes\u001b[0m\u001b[1;33m,\u001b[0m \u001b[0mlevel\u001b[0m\u001b[1;33m,\u001b[0m \u001b[0mlimit\u001b[0m\u001b[1;33m,\u001b[0m \u001b[0mtolerance\u001b[0m\u001b[1;33m,\u001b[0m \u001b[0mmethod\u001b[0m\u001b[1;33m,\u001b[0m \u001b[0mfill_value\u001b[0m\u001b[1;33m,\u001b[0m \u001b[0mcopy\u001b[0m\u001b[1;33m\u001b[0m\u001b[1;33m\u001b[0m\u001b[0m\n\u001b[0;32m   4968\u001b[0m         ).__finalize__(self, method=\"reindex\")\n",
      "\u001b[1;32mD:\\Anaconda\\lib\\site-packages\\pandas\\core\\generic.py\u001b[0m in \u001b[0;36m_reindex_axes\u001b[1;34m(self, axes, level, limit, tolerance, method, fill_value, copy)\u001b[0m\n\u001b[0;32m   4984\u001b[0m \u001b[1;33m\u001b[0m\u001b[0m\n\u001b[0;32m   4985\u001b[0m             \u001b[0maxis\u001b[0m \u001b[1;33m=\u001b[0m \u001b[0mself\u001b[0m\u001b[1;33m.\u001b[0m\u001b[0m_get_axis_number\u001b[0m\u001b[1;33m(\u001b[0m\u001b[0ma\u001b[0m\u001b[1;33m)\u001b[0m\u001b[1;33m\u001b[0m\u001b[1;33m\u001b[0m\u001b[0m\n\u001b[1;32m-> 4986\u001b[1;33m             obj = obj._reindex_with_indexers(\n\u001b[0m\u001b[0;32m   4987\u001b[0m                 \u001b[1;33m{\u001b[0m\u001b[0maxis\u001b[0m\u001b[1;33m:\u001b[0m \u001b[1;33m[\u001b[0m\u001b[0mnew_index\u001b[0m\u001b[1;33m,\u001b[0m \u001b[0mindexer\u001b[0m\u001b[1;33m]\u001b[0m\u001b[1;33m}\u001b[0m\u001b[1;33m,\u001b[0m\u001b[1;33m\u001b[0m\u001b[1;33m\u001b[0m\u001b[0m\n\u001b[0;32m   4988\u001b[0m                 \u001b[0mfill_value\u001b[0m\u001b[1;33m=\u001b[0m\u001b[0mfill_value\u001b[0m\u001b[1;33m,\u001b[0m\u001b[1;33m\u001b[0m\u001b[1;33m\u001b[0m\u001b[0m\n",
      "\u001b[1;32mD:\\Anaconda\\lib\\site-packages\\pandas\\core\\generic.py\u001b[0m in \u001b[0;36m_reindex_with_indexers\u001b[1;34m(self, reindexers, fill_value, copy, allow_dups)\u001b[0m\n\u001b[0;32m   5030\u001b[0m \u001b[1;33m\u001b[0m\u001b[0m\n\u001b[0;32m   5031\u001b[0m             \u001b[1;31m# TODO: speed up on homogeneous DataFrame objects (see _reindex_multi)\u001b[0m\u001b[1;33m\u001b[0m\u001b[1;33m\u001b[0m\u001b[0m\n\u001b[1;32m-> 5032\u001b[1;33m             new_data = new_data.reindex_indexer(\n\u001b[0m\u001b[0;32m   5033\u001b[0m                 \u001b[0mindex\u001b[0m\u001b[1;33m,\u001b[0m\u001b[1;33m\u001b[0m\u001b[1;33m\u001b[0m\u001b[0m\n\u001b[0;32m   5034\u001b[0m                 \u001b[0mindexer\u001b[0m\u001b[1;33m,\u001b[0m\u001b[1;33m\u001b[0m\u001b[1;33m\u001b[0m\u001b[0m\n",
      "\u001b[1;32mD:\\Anaconda\\lib\\site-packages\\pandas\\core\\internals\\managers.py\u001b[0m in \u001b[0;36mreindex_indexer\u001b[1;34m(self, new_axis, indexer, axis, fill_value, allow_dups, copy, consolidate, only_slice, use_na_proxy)\u001b[0m\n\u001b[0;32m    674\u001b[0m         \u001b[1;31m# some axes don't allow reindexing with dups\u001b[0m\u001b[1;33m\u001b[0m\u001b[1;33m\u001b[0m\u001b[0m\n\u001b[0;32m    675\u001b[0m         \u001b[1;32mif\u001b[0m \u001b[1;32mnot\u001b[0m \u001b[0mallow_dups\u001b[0m\u001b[1;33m:\u001b[0m\u001b[1;33m\u001b[0m\u001b[1;33m\u001b[0m\u001b[0m\n\u001b[1;32m--> 676\u001b[1;33m             \u001b[0mself\u001b[0m\u001b[1;33m.\u001b[0m\u001b[0maxes\u001b[0m\u001b[1;33m[\u001b[0m\u001b[0maxis\u001b[0m\u001b[1;33m]\u001b[0m\u001b[1;33m.\u001b[0m\u001b[0m_validate_can_reindex\u001b[0m\u001b[1;33m(\u001b[0m\u001b[0mindexer\u001b[0m\u001b[1;33m)\u001b[0m\u001b[1;33m\u001b[0m\u001b[1;33m\u001b[0m\u001b[0m\n\u001b[0m\u001b[0;32m    677\u001b[0m \u001b[1;33m\u001b[0m\u001b[0m\n\u001b[0;32m    678\u001b[0m         \u001b[1;32mif\u001b[0m \u001b[0maxis\u001b[0m \u001b[1;33m>=\u001b[0m \u001b[0mself\u001b[0m\u001b[1;33m.\u001b[0m\u001b[0mndim\u001b[0m\u001b[1;33m:\u001b[0m\u001b[1;33m\u001b[0m\u001b[1;33m\u001b[0m\u001b[0m\n",
      "\u001b[1;32mD:\\Anaconda\\lib\\site-packages\\pandas\\core\\indexes\\base.py\u001b[0m in \u001b[0;36m_validate_can_reindex\u001b[1;34m(self, indexer)\u001b[0m\n\u001b[0;32m   4119\u001b[0m         \u001b[1;31m# trying to reindex on an axis with duplicates\u001b[0m\u001b[1;33m\u001b[0m\u001b[1;33m\u001b[0m\u001b[0m\n\u001b[0;32m   4120\u001b[0m         \u001b[1;32mif\u001b[0m \u001b[1;32mnot\u001b[0m \u001b[0mself\u001b[0m\u001b[1;33m.\u001b[0m\u001b[0m_index_as_unique\u001b[0m \u001b[1;32mand\u001b[0m \u001b[0mlen\u001b[0m\u001b[1;33m(\u001b[0m\u001b[0mindexer\u001b[0m\u001b[1;33m)\u001b[0m\u001b[1;33m:\u001b[0m\u001b[1;33m\u001b[0m\u001b[1;33m\u001b[0m\u001b[0m\n\u001b[1;32m-> 4121\u001b[1;33m             \u001b[1;32mraise\u001b[0m \u001b[0mValueError\u001b[0m\u001b[1;33m(\u001b[0m\u001b[1;34m\"cannot reindex on an axis with duplicate labels\"\u001b[0m\u001b[1;33m)\u001b[0m\u001b[1;33m\u001b[0m\u001b[1;33m\u001b[0m\u001b[0m\n\u001b[0m\u001b[0;32m   4122\u001b[0m \u001b[1;33m\u001b[0m\u001b[0m\n\u001b[0;32m   4123\u001b[0m     def reindex(\n",
      "\u001b[1;31mValueError\u001b[0m: cannot reindex on an axis with duplicate labels"
     ]
    }
   ],
   "source": [
    "# Creating adjecency Table for recipes.\n",
    "adjacency = pd.DataFrame(columns=kw_filts, index=kw_filts, data = 0)\n",
    "for i, word in enumerate(parsed_texts):\n",
    "    if any ([str(word) == item for item in kw_filts]):\n",
    "        end = min(len(parsed_texts), i+5) # Window of four words\n",
    "        nextwords = parsed_texts[i+1:end]\n",
    "        inset = [str(x) in kw_filts for x in nextwords]\n",
    "        neighbors = [str(nextwords[i]) for i in range(len(nextwords)) if inset[i]]\n",
    "        if neighbors:\n",
    "            adjacency.loc[str(word), neighbors] += 1"
   ]
  },
  {
   "cell_type": "code",
   "execution_count": 69,
   "metadata": {},
   "outputs": [
    {
     "name": "stdout",
     "output_type": "stream",
     "text": [
      "             remainder  consistency  grapeseed  room  package  Whisk  top  \\\n",
      "remainder          0.0          0.0        0.0   0.0      0.0    0.0  0.0   \n",
      "consistency        0.0          0.0        0.0   0.0      0.0    0.0  0.0   \n",
      "grapeseed          0.0          0.0        0.0   0.0      0.0    0.0  0.0   \n",
      "room               0.0          0.0        0.0   0.0      0.0    0.0  0.0   \n",
      "package            0.0          0.0        0.0   0.0      0.0    0.0  0.0   \n",
      "...                ...          ...        ...   ...      ...    ...  ...   \n",
      "chill              0.0          0.0        0.0   0.0      0.0    0.0  0.0   \n",
      "well               0.0          0.0        0.0   0.0      0.0    0.0  0.0   \n",
      "powder             0.0          0.0        0.0   0.0      0.0    1.0  0.0   \n",
      "spatula            0.0          0.0        0.0   0.0      0.0    0.0  0.0   \n",
      "light              0.0          0.0        0.0   0.0      0.0    0.0  0.0   \n",
      "\n",
      "             foil  sand  ounces  ...  syrup  bread  maple  coloring  hour  \\\n",
      "remainder     0.0   0.0     0.0  ...    0.0    0.0    0.0       0.0   0.0   \n",
      "consistency   0.0   0.0     0.0  ...    0.0    0.0    0.0       0.0   0.0   \n",
      "grapeseed     0.0   0.0     0.0  ...    0.0    0.0    0.0       0.0   0.0   \n",
      "room          0.0   0.0     0.0  ...    0.0    0.0    0.0       0.0   0.0   \n",
      "package       0.0   0.0     0.0  ...    0.0    0.0    0.0       1.0   0.0   \n",
      "...           ...   ...     ...  ...    ...    ...    ...       ...   ...   \n",
      "chill         0.0   0.0     0.0  ...    0.0    0.0    0.0       0.0   0.0   \n",
      "well          0.0   0.0     0.0  ...    0.0    0.0    0.0       0.0   0.0   \n",
      "powder        0.0   0.0     0.0  ...    1.0    0.0    0.0       0.0   0.0   \n",
      "spatula       0.0   0.0     0.0  ...    0.0    0.0    0.0       0.0   0.0   \n",
      "light         0.0   0.0     0.0  ...    0.0    0.0    0.0       0.0   0.0   \n",
      "\n",
      "             chill  well  powder  spatula  light  \n",
      "remainder      0.0   0.0     0.0      0.0    0.0  \n",
      "consistency    0.0   0.0     0.0      0.0    0.0  \n",
      "grapeseed      0.0   0.0     0.0      0.0    0.0  \n",
      "room           0.0   0.0     0.0      0.0    0.0  \n",
      "package        0.0   0.0     0.0      0.0    0.0  \n",
      "...            ...   ...     ...      ...    ...  \n",
      "chill          0.0   0.0     0.0      0.0    0.0  \n",
      "well           0.0   0.0     1.0      0.0    0.0  \n",
      "powder         0.0   0.0     2.0      0.0    0.0  \n",
      "spatula        0.0   0.0     0.0      0.0    0.0  \n",
      "light          0.0   0.0     0.0      0.0    0.0  \n",
      "\n",
      "[242 rows x 242 columns]\n"
     ]
    }
   ],
   "source": [
    "from collections import defaultdict\n",
    "\n",
    "# Ensure unique keywords\n",
    "kw_filts = list(set(kw_filts))\n",
    "\n",
    "# Create a defaultdict to store counts of keyword pairs\n",
    "adjacency_dict = defaultdict(lambda: defaultdict(int))\n",
    "\n",
    "# Iterate over parsed_texts to populate the adjacency_dict\n",
    "for i, word in enumerate(parsed_texts):\n",
    "    if str(word) in kw_filts:\n",
    "        end = min(len(parsed_texts), i + 5)  # Window of five words\n",
    "        nextwords = parsed_texts[i + 1:end]\n",
    "        neighbors = [str(nextword) for nextword in nextwords if str(nextword) in kw_filts]\n",
    "        if neighbors:\n",
    "            for neighbor in neighbors:\n",
    "                adjacency_dict[str(word)][neighbor] += 1\n",
    "\n",
    "# Create DataFrame from adjacency_dict\n",
    "adjacency = pd.DataFrame(adjacency_dict).fillna(0)\n",
    "\n",
    "# Ensure that all keywords are present in both index and columns\n",
    "adjacency = adjacency.reindex(index=kw_filts, columns=kw_filts).fillna(0)\n",
    "\n",
    "print(adjacency)"
   ]
  },
  {
   "cell_type": "markdown",
   "metadata": {},
   "source": [
    "For the sake of implementing a simple TextRank precedure, all of the recipes were concatenated into one continuous corpora. The issue with this is that in tabulating the word adjacencies there is no delineation between one recipe and the next. So the neighbors at the tail ends of any one recipe are considered neighbors to the words at the front end of the next corresponding recipe. However, while this does generate false word adjacencies, the recipes are ordered by topic rank so that that adjacent recipes are in content. In theory, this dampens the effect, if any, that the false word adjacencies might create."
   ]
  },
  {
   "cell_type": "code",
   "execution_count": 70,
   "metadata": {},
   "outputs": [],
   "source": [
    "import networkx as nx\n",
    "\n",
    "# Running TextRank\n",
    "nx_words = nx.from_numpy_matrix(adjacency.values)\n",
    "ranks=nx.pagerank(nx_words, alpha=.85, tol=.00000001)\n",
    "\n",
    "# Identifying the most highly ranked keywords\n",
    "ranked = sorted(((ranks[i],s) for i,s in enumerate(kw_filts)),\n",
    "                reverse=True)"
   ]
  },
  {
   "cell_type": "code",
   "execution_count": 71,
   "metadata": {},
   "outputs": [
    {
     "data": {
      "text/plain": [
       "[(0.05643619458811701, 'flour'),\n",
       " (0.045061545107377074, 'baking'),\n",
       " (0.03742601317374986, 'sugar'),\n",
       " (0.026188159539610324, 'powder'),\n",
       " (0.02318777741261558, 'mixture'),\n",
       " (0.022481324589279365, 'vanilla'),\n",
       " (0.019771137474108115, 'salt'),\n",
       " (0.019536431613809666, 'teaspoons'),\n",
       " (0.01910718228251914, 'eggs'),\n",
       " (0.018420382489602934, 'degrees'),\n",
       " (0.01839114085699566, 'batter'),\n",
       " (0.017964706756475324, 'pan'),\n",
       " (0.017742971030785315, 'bowl'),\n",
       " (0.017329475243209144, 'extract'),\n",
       " (0.01694593382002486, 'butter'),\n",
       " (0.01666605253764377, 'soda'),\n",
       " (0.013196884729024829, 'cinnamon'),\n",
       " (0.012563083141587331, 'oil'),\n",
       " (0.012355973435932846, 'muffin'),\n",
       " (0.011809551330689566, 'inch'),\n",
       " (0.011509322091712933, 'minutes'),\n",
       " (0.011061364188794364, 'Stir'),\n",
       " (0.010821395495893948, 'egg'),\n",
       " (0.01073743970163366, 'Mix'),\n",
       " (0.010007124926054189, 'C')]"
      ]
     },
     "execution_count": 71,
     "metadata": {},
     "output_type": "execute_result"
    }
   ],
   "source": [
    "ranked[:25]"
   ]
  },
  {
   "cell_type": "code",
   "execution_count": 72,
   "metadata": {},
   "outputs": [
    {
     "data": {
      "text/plain": [
       "(242, 242)"
      ]
     },
     "execution_count": 72,
     "metadata": {},
     "output_type": "execute_result"
    }
   ],
   "source": [
    "adjacency.shape"
   ]
  },
  {
   "cell_type": "code",
   "execution_count": 73,
   "metadata": {},
   "outputs": [
    {
     "data": {
      "text/plain": [
       "<242x242 sparse matrix of type '<class 'numpy.float64'>'\n",
       "\twith 2539 stored elements in Compressed Sparse Row format>"
      ]
     },
     "execution_count": 73,
     "metadata": {},
     "output_type": "execute_result"
    }
   ],
   "source": [
    "# checking to see there are actual values loaded in the adjacency df\n",
    "import scipy\n",
    "scipy.sparse.csr_matrix(adjacency.copy().values)"
   ]
  },
  {
   "cell_type": "markdown",
   "metadata": {},
   "source": [
    "Looking just at the top ranked keywords for the Topic \\#1 documents, one would guess that the topic that was clustered is baked cakes. The top ranked word is 'baking' which is spot on! Unfortunately, because we used tf-idf, there is no way of calculating from these keywords a sort of categorical vector mapping such as 'baking'. If we were to use some sort of word embeddings such as Word2Vec or GloVe then we might be able to calculate abstract summaries of these words.\n",
    "\n",
    "However, these keyword extractions are still useful insofar that the queries will match indidrectly to the the umbrella topic of 'baking' if those queries still match with the words extracted from the baking topic.\n",
    "\n",
    "For now, we will arbitratily choose between text rank and nnmf word topic ranks to generate keywords. TextRank is a clear winner over mere text cosine similarity ranks in the case of this topic, so we will proceed with using TextRank as the categories. "
   ]
  },
  {
   "cell_type": "code",
   "execution_count": 74,
   "metadata": {},
   "outputs": [
    {
     "data": {
      "text/plain": [
       "242"
      ]
     },
     "execution_count": 74,
     "metadata": {},
     "output_type": "execute_result"
    }
   ],
   "source": [
    "len(kw_filts)"
   ]
  },
  {
   "cell_type": "code",
   "execution_count": 75,
   "metadata": {},
   "outputs": [
    {
     "data": {
      "text/plain": [
       "242"
      ]
     },
     "execution_count": 75,
     "metadata": {},
     "output_type": "execute_result"
    }
   ],
   "source": [
    "pd.Series(list(kw_filts)).nunique()"
   ]
  },
  {
   "cell_type": "code",
   "execution_count": 76,
   "metadata": {},
   "outputs": [
    {
     "data": {
      "text/plain": [
       "'Blueberry Buttermilk Coffeecake cup butter cups white sugar eggs teaspoon vanilla extract cups buttermilk cups allpurpose flour teaspoons baking powder teaspoon baking soda teaspoon salt cups blueberries cup allpurpose flour cup white sugar tablespoons butter softened Preheat oven to degrees F degrees C Grease and flour a x inch pan Sift together cups flour baking powder baking soda and salt Set aside In a large bowl cream together cup butter and cup sugar until light and fluffy Beat in the eggs one at a time then stir in the vanilla Beat in the flour mixture alternately with the buttermilk mixing just until incorporated Sir in blueberries Pour batter into prepared pan In a small bowl combine cup flour and cup sugar cut in tablespoons butter until mixture resembles coarse crumbs Sprinkle over top of batter Bake in the preheated oven for to minutes or until a toothpick inserted into the center of the cake comes out clean Allow to cool'"
      ]
     },
     "execution_count": 76,
     "metadata": {},
     "output_type": "execute_result"
    }
   ],
   "source": [
    "text_4summary[3060]"
   ]
  },
  {
   "cell_type": "markdown",
   "metadata": {},
   "source": [
    "Exploration of TextRank Takeaways: \n",
    "- All of the filter keyword are pretty similar because they were all extracted from the top 100 recipes within their topic.\n",
    "- Recipes NLP stopwords need to be compiled\n",
    "- The keywords that TextRank extracts relate really well to the underlying extracted topic, however, there's no way of abstractively generating semantically similar words that collectively captures the essence of the topic\n",
    "- False adjacencies are created but the produced keywords do not look dissimilar from the topic modelled words using NNMF.\n",
    "- One downside of using TextRank is that upon inspection of the ranked words and the filter words, it appears multiple copies of the same words are not getting identified as unique, such that, for example, there will be multiple copies of 'toothpick' or 'cups' with different individual rankings.\n",
    "\n"
   ]
  },
  {
   "cell_type": "markdown",
   "metadata": {},
   "source": [
    "### Analyzing Score distribution of document and word ranks within Topics\n",
    "The purpose is to visualize the distribution of document topic rankings and decide the cutoff for the documents that associate most with that topic."
   ]
  },
  {
   "cell_type": "code",
   "execution_count": 77,
   "metadata": {},
   "outputs": [],
   "source": [
    "import matplotlib.pyplot as plt\n",
    "# text_lda\n",
    "# text_nmf\n",
    "# ranked"
   ]
  },
  {
   "cell_type": "code",
   "execution_count": 78,
   "metadata": {},
   "outputs": [
    {
     "data": {
      "image/png": "[encoded data removed]",
      "text/plain": [
       "<Figure size 1500x400 with 3 Axes>"
      ]
     },
     "metadata": {},
     "output_type": "display_data"
    }
   ],
   "source": [
    "# LDA Topic documents for topics 0-2\n",
    "plt.figure(figsize=(15,4))\n",
    "for i in range(3):\n",
    "    series = pd.Series(text_lda[:,i])\n",
    "    plt.subplot(1,3,i+1)\n",
    "    plt.hist(series[series > 0.05])\n",
    "    plt.title('LDA Topic #{} Doc Score Dist (>0.05)'.format(i+1))\n",
    "plt.show()"
   ]
  },
  {
   "cell_type": "code",
   "execution_count": 79,
   "metadata": {},
   "outputs": [
    {
     "data": {
      "image/png": "[encoded data removed]",
      "text/plain": [
       "<Figure size 1500x400 with 3 Axes>"
      ]
     },
     "metadata": {},
     "output_type": "display_data"
    }
   ],
   "source": [
    "# NNMF Topic documents for topics 0-2\n",
    "plt.figure(figsize=(15,4))\n",
    "for i in range(3):\n",
    "    series = pd.Series(text_nmf[:,i])\n",
    "    plt.subplot(1,3,i+1)\n",
    "    plt.hist(series[series > 0.004])\n",
    "    plt.title('NNMF Topic #{} Document Score Dist (>0.004)'.format(i+1))\n",
    "    plt.xlabel('Document Topic Score')\n",
    "#plt.savefig('DocsByTop_Score_Distributions.png', transparent = True)\n",
    "plt.show()"
   ]
  },
  {
   "cell_type": "markdown",
   "metadata": {},
   "source": [
    "Based on the first three topics for LDA and NNMF, I will subjectly choose the top 1500-2000 documents. This number of documents seems to be where the loadings for each score distibution either level off or spike upward (an elbow so to speak).\n",
    "\n",
    "Confirming with Topic \\#1 of the NNMF topics, the baking topic, baking recipes extended as far as 10,000 of the top ranked recipes within that category."
   ]
  },
  {
   "cell_type": "code",
   "execution_count": 80,
   "metadata": {},
   "outputs": [
    {
     "data": {
      "image/png": "[encoded data removed]",
      "text/plain": [
       "<Figure size 1500x400 with 3 Axes>"
      ]
     },
     "metadata": {},
     "output_type": "display_data"
    }
   ],
   "source": [
    "# LDA Topic document scores for topics 0-2\n",
    "plt.figure(figsize=(15,4))\n",
    "for i in range(3):\n",
    "    series = pd.Series(text_lda[:,i]).copy().sort_values(ascending = False).reset_index(drop = True)\n",
    "    plt.subplot(1,3,i+1)\n",
    "    plt.plot(series[:1000])\n",
    "    plt.title('LDA Topic #{} Ordered Score Plot'.format(i+1))\n",
    "plt.show()"
   ]
  },
  {
   "cell_type": "code",
   "execution_count": 81,
   "metadata": {},
   "outputs": [
    {
     "data": {
      "image/png": "[encoded data removed]",
      "text/plain": [
       "<Figure size 1500x400 with 3 Axes>"
      ]
     },
     "metadata": {},
     "output_type": "display_data"
    }
   ],
   "source": [
    "# NMF Topic document scores for topics 0-2\n",
    "plt.figure(figsize=(15,4))\n",
    "for i in range(3):\n",
    "    series = pd.Series(text_nmf[:,i]).copy().sort_values(ascending = False).reset_index(drop = True)\n",
    "    plt.subplot(1,3,i+1)\n",
    "    plt.plot(series[:1000])\n",
    "    plt.title('NMF Topic #{} Ordered Score Plot'.format(i+1))\n",
    "    plt.xlabel('Document Rank')\n",
    "    plt.ylabel('Document Topic Score')\n",
    "#plt.savefig('DocsByTop_Score_Elbows.png', transparent = True)\n",
    "plt.show()"
   ]
  },
  {
   "cell_type": "markdown",
   "metadata": {},
   "source": [
    "While this method has not been previously utilized, the plots above take  after scree plots, and they plot the scores of documents as they relate to their respective topics in descending order. By plotting these elbow plots, it might shed light on the best number of documents to use to rank words.\n",
    "\n",
    "We will be using NNMF for the model because the topics seemed to have converged more distinctly on topic. According to the 'Scree Plots' corresponding to the NNMF topics, it seems that the scores begin leveling out around 200 documents. Therefore we will use TextRank on the top 200 documents for each topic."
   ]
  },
  {
   "cell_type": "markdown",
   "metadata": {},
   "source": [
    "***One Note: Go deeper into depth why you chose NNMF over LDA.***"
   ]
  },
  {
   "cell_type": "markdown",
   "metadata": {},
   "source": [
    "# \\~~Putting it all together~~\n",
    "\n",
    "Reintialize the model with 'pseudo-optimized' parameters, more easily track flow of data, and toggle with parameters all in one place. The \"database\" will also be created so that user queries will return results in a speedy manner!\n",
    "\n",
    "Some pieces of code will be commented out with a triple ***\\''' '''*** to indicate that the code takes too long to run and should only be run when the kernel has been shutdown."
   ]
  },
  {
   "cell_type": "code",
   "execution_count": 82,
   "metadata": {},
   "outputs": [
    {
     "data": {
      "text/plain": [
       "'text_tfidf = vectorizer.fit_transform(tokenized_text)'"
      ]
     },
     "execution_count": 82,
     "metadata": {},
     "output_type": "execute_result"
    }
   ],
   "source": [
    "import pandas as pd\n",
    "import numpy as np\n",
    "import re\n",
    "import spacy\n",
    "from functools import reduce\n",
    "from operator import add\n",
    "import string\n",
    "import re\n",
    "import multiprocessing as mp\n",
    "\n",
    "### Below is all the code necessary to clean the data into useable form for modeling.\n",
    "'''\n",
    "# Loading Data\n",
    "allrecipes_raw = pd.read_json('../__DATA__/recipes_raw/recipes_raw_nosource_ar.json')\n",
    "\n",
    "allrecipes = allrecipes_raw.copy().T.reset_index().drop(columns = ['index'])\n",
    "recipes = pd.concat([allrecipes, epicurious, foodnetwork]).reset_index(drop=True) # Concat does not reset indices\n",
    "\n",
    "# Cleaning\n",
    "null_recs = recipes.copy().drop(columns = 'picture_link').T.isna().any()\n",
    "rows_to_drop = recipes[null_recs].index\n",
    "recipes = recipes.drop(index = rows_to_drop).reset_index(drop = True)\n",
    "\n",
    "nc_ingred_index = [index for i, index in zip(recipes['ingredients'], recipes.index) if all(j.isdigit() or j in string.punctuation for j in i)]\n",
    "nc_title_index = [index for i, index in zip(recipes['title'], recipes.index) if all(j.isdigit() or j in string.punctuation for j in i)]\n",
    "nc_instr_index = [index for i, index in zip(recipes['instructions'], recipes.index) if all(j.isdigit() or j in string.punctuation for j in i)]\n",
    "\n",
    "index_list = [nc_ingred_index, nc_title_index, nc_instr_index]\n",
    "\n",
    "inds_to_drop = set(reduce(add, index_list))\n",
    "print(len(inds_to_drop))\n",
    "recipes = recipes.drop(index=inds_to_drop).reset_index(drop=True)\n",
    "recipes.shape\n",
    "\n",
    "empty_instr_ind = [index for i, index in zip(recipes['instructions'], recipes.index) if len(i) < 20]\n",
    "recipes = recipes.drop(index = empty_instr_ind).reset_index(drop=True)\n",
    "\n",
    "ingredients = []\n",
    "for ing_list in recipes['ingredients']:\n",
    "    clean_ings = [ing.replace('ADVERTISEMENT','').strip() for ing in ing_list]\n",
    "    if '' in clean_ings:\n",
    "        clean_ings.remove('')\n",
    "    ingredients.append(clean_ings)\n",
    "recipes['ingredients'] = ingredients\n",
    "\n",
    "recipes['ingredient_text'] = ['; '.join(ingredients) for ingredients in recipes['ingredients']]\n",
    "recipes['ingredient_text'].head()\n",
    "\n",
    "recipes['ingredient_count'] = [len(ingredients) for ingredients in recipes['ingredients']]\n",
    "\n",
    "all_text = recipes['title'] + ' ' + recipes['ingredient_text'] + ' ' + recipes['instructions']\n",
    "\n",
    "def clean_text(documents):\n",
    "    cleaned_text = []\n",
    "    for doc in documents:\n",
    "        doc = doc.translate(str.maketrans('', '', string.punctuation)) # Remove Punctuation\n",
    "        doc = re.sub(r'\\d+', '', doc) # Remove Digits\n",
    "        doc = doc.replace('\\n',' ') # Remove New Lines\n",
    "        doc = doc.strip() # Remove Leading White Space\n",
    "        doc = re.sub(' +', ' ', doc) # Remove multiple white spaces\n",
    "        cleaned_text.append(doc)\n",
    "    return cleaned_text\n",
    "\n",
    "cleaned_text = clean_text(all_text)\n",
    "\n",
    "# Testing Strategies and Code\n",
    "nlp = spacy.load('en')\n",
    "' '.join([token.lemma_ for token in nlp(cleaned_text[2]) if not token.is_stop])\n",
    "\n",
    "def text_tokenizer_mp(doc):\n",
    "    tok_doc = ' '.join([token.lemma_ for token in nlp(doc) if not token.is_stop])\n",
    "    return tok_doc\n",
    "\n",
    "# Parallelzing tokenizing process\n",
    "pool = mp.Pool(mp.cpu_count())\n",
    "tokenized_text = pool.map(text_tokenizer_mp, [doc for doc in cleaned_text])\n",
    "'''\n",
    "\n",
    "# Creating TF-IDF Matrices and recalling text dependencies\n",
    "\n",
    "'''import text_tokenized.csv here to'''\n",
    "\n",
    "# TF-IDF vectorizer instance\n",
    "'''vectorizer = TfidfVectorizer(lowercase = True,\n",
    "                            ngram_range = (1,1))'''\n",
    "\n",
    "'''text_tfidf = vectorizer.fit_transform(tokenized_text)'''"
   ]
  },
  {
   "cell_type": "code",
   "execution_count": 83,
   "metadata": {},
   "outputs": [],
   "source": [
    "# Set All Recommendation Model Parameters\n",
    "N_topics = 50             # Number of Topics to Extract from corpora\n",
    "N_top_docs = 200          # Number of top documents within each topic to extract keywords\n",
    "N_top_words = 25          # Number of keywords to extract from each topic\n",
    "N_docs_categorized = 2000 # Number of top documents within each topic to tag \n",
    "N_neighbor_window = 4     # Length of word-radius that defines the neighborhood for\n",
    "                          # each word in the TextRank adjacency table\n",
    "\n",
    "# Query Similarity Weights\n",
    "w_title = 0.2\n",
    "w_text = 0.3\n",
    "w_categories = 0.5\n",
    "w_array = np.array([w_title, w_text, w_categories])\n",
    "\n",
    "# Recipe Stopwords: for any high volume food recipe terminology that doesn't contribute\n",
    "# to the searchability of a recipe. This list must be manually created.\n",
    "recipe_stopwords = ['cup','cups','ingredient','ingredients','teaspoon','teaspoons','tablespoon',\n",
    "                   'tablespoons','C','F']"
   ]
  },
  {
   "cell_type": "code",
   "execution_count": 84,
   "metadata": {},
   "outputs": [],
   "source": [
    "# Renaming Data Dependencies\n",
    "topic_transformed_matrix = text_nmf\n",
    "root_text_data = cleaned_text"
   ]
  },
  {
   "cell_type": "markdown",
   "metadata": {},
   "source": [
    "### Generating  tags (keywords/categories) and assigning to corresponding documents"
   ]
  },
  {
   "cell_type": "code",
   "execution_count": 85,
   "metadata": {},
   "outputs": [],
   "source": [
    "from itertools import repeat\n",
    "\n",
    "#recipes['tag_list'] = [[] for i in repeat(None, recipes.shape[0])]\n",
    "\n",
    "def topic_docs_4kwsummary(topic_document_scores, root_text_data):\n",
    "    '''Gathers and formats the top recipes in each topic'''\n",
    "    text_index = pd.Series(topic_document_scores).sort_values(ascending = False)[:N_top_docs].index\n",
    "    text_4kwsummary = pd.Series(root_text_data)[text_index]\n",
    "    return text_4kwsummary\n",
    "\n",
    "def generate_filter_kws(text_list):\n",
    "    '''Filters out specific parts of speech and stop words from the list of potential keywords'''\n",
    "    parsed_texts = nlp(' '.join(text_list)) \n",
    "    kw_filts = set([str(word) for word in parsed_texts \n",
    "                if (word.pos_== ('NOUN' or 'ADJ' or 'VERB'))\n",
    "                and word.lemma_ not in recipe_stopwords])\n",
    "    return list(kw_filts), parsed_texts\n",
    "\n",
    "def generate_adjacency(kw_filts, parsed_texts):\n",
    "    '''Tabulates counts of neighbors in the neighborhood window for each unique word'''\n",
    "    adjacency = pd.DataFrame(columns=kw_filts, index=kw_filts, data = 0)\n",
    "    for i, word in enumerate(parsed_texts):\n",
    "        if any ([str(word) == item for item in kw_filts]):\n",
    "            end = min(len(parsed_texts), i+N_neighbor_window+1) # Neighborhood Window Utilized Here\n",
    "            nextwords = parsed_texts[i+1:end]\n",
    "            inset = [str(x) in kw_filts for x in nextwords]\n",
    "            neighbors = [str(nextwords[i]) for i in range(len(nextwords)) if inset[i]]\n",
    "            if neighbors:\n",
    "                adjacency.loc[str(word), neighbors] += 1\n",
    "    return adjacency\n",
    "                \n",
    "def generate_wordranks(adjacency):\n",
    "    '''Runs TextRank on adjacency table'''\n",
    "    nx_words = nx.from_numpy_matrix(adjacency.values)\n",
    "    ranks=nx.pagerank(nx_words, alpha=.85, tol=.00000001)\n",
    "    return ranks\n",
    "\n",
    "def generate_tag_list(ranks):\n",
    "    '''Uses TextRank ranks to return actual key words for each topic in rank order'''\n",
    "    rank_values = [i for i in ranks.values()]\n",
    "    ranked = pd.DataFrame(zip(rank_values, list(kw_filts))).sort_values(by=0,axis=0,ascending=False)\n",
    "    kw_list = ranked.iloc[:N_top_words,1].to_list()\n",
    "    return kw_list\n",
    "\n",
    "# Master Function utilizing all above functions\n",
    "def generate_tags(topic_document_scores, root_text_data):\n",
    "    text_4kwsummary = topic_docs_4kwsummary(topic_document_scores, root_text_data)\n",
    "    kw_filts, parsed_texts = generate_filter_kws(text_4kwsummary)\n",
    "    adjacency = generate_adjacency(kw_filts, parsed_texts)\n",
    "    ranks = generate_wordranks(adjacency)\n",
    "    kw_list = generate_tag_list(ranks)\n",
    "    return kw_list\n",
    "\n",
    "def generate_kw_index(topic_document_scores):\n",
    "    kw_index = pd.Series(topic_document_scores).sort_values(ascending = False)[:N_docs_categorized].index\n",
    "    return kw_index\n",
    "\n",
    "    "
   ]
  },
  {
   "cell_type": "code",
   "execution_count": 90,
   "metadata": {},
   "outputs": [],
   "source": [
    "def generate_adjacency(kw_filts, parsed_texts):\n",
    "    adjacency = pd.DataFrame(columns=kw_filts, index=kw_filts, data=0)\n",
    "    for i, word in enumerate(parsed_texts):\n",
    "        if any([str(word) == item for item in kw_filts]):\n",
    "            end = min(len(parsed_texts), i + 5)  # Window of four words\n",
    "            nextwords = parsed_texts[i + 1:end]\n",
    "            inset = [str(x) in kw_filts for x in nextwords]\n",
    "            neighbors = [str(nextwords[i]) for i in range(len(nextwords)) if inset[i]]\n",
    "            if neighbors:\n",
    "                for neighbor in neighbors:\n",
    "                    adjacency.loc[str(word), neighbor] += 1\n",
    "    return adjacency"
   ]
  },
  {
   "cell_type": "code",
   "execution_count": 94,
   "metadata": {},
   "outputs": [
    {
     "name": "stdout",
     "output_type": "stream",
     "text": [
      "Topic #0 Checkpoint\n",
      "Topic #10 Checkpoint\n",
      "Topic #20 Checkpoint\n",
      "Topic #30 Checkpoint\n",
      "Topic #40 Checkpoint\n",
      "done!\n"
     ]
    }
   ],
   "source": [
    "# Generating Tags and distributing to relevant documents\n",
    "for i in range(topic_transformed_matrix.shape[1]):\n",
    "    scores = topic_transformed_matrix[:, i]\n",
    "    topic_kws = generate_tags(scores, root_text_data)\n",
    "    kw_index_4df = generate_kw_index(scores)\n",
    "    \n",
    "    # Remove duplicates from kw_index_4df\n",
    "    kw_index_4df_unique = kw_index_4df.drop_duplicates()\n",
    "    \n",
    "    # Iterate over unique index values and update DataFrame\n",
    "    for idx in kw_index_4df_unique:\n",
    "        if idx in recipes.index:\n",
    "            if 'tag_list' not in recipes.columns:\n",
    "                recipes['tag_list'] = ''  # Create the 'tag_list' column if it doesn't exist\n",
    "            recipes.at[idx, 'tag_list'] += ', '.join(topic_kws)  # Convert list to string and concatenate\n",
    "    \n",
    "    if i % 10 == 0:\n",
    "        print('Topic #{} Checkpoint'.format(i))\n",
    "\n",
    "print('done!')"
   ]
  },
  {
   "cell_type": "code",
   "execution_count": 95,
   "metadata": {},
   "outputs": [],
   "source": [
    "# Saving the precious dataframe so that I never have to calculate that again.\n",
    "recipes.to_csv('tagged_recipes_df.csv')"
   ]
  },
  {
   "cell_type": "code",
   "execution_count": null,
   "metadata": {},
   "outputs": [
    {
     "name": "stdout",
     "output_type": "stream",
     "text": [
      "Topic #0 Checkpoint\n"
     ]
    }
   ],
   "source": [
    "# Generating Tags and distributing to relevant documents\n",
    "for i in range(topic_transformed_matrix.shape[1]):\n",
    "    scores = topic_transformed_matrix[:, i]\n",
    "    topic_kws = generate_tags(scores, root_text_data)\n",
    "    kw_index_4df = generate_kw_index(scores)\n",
    "    \n",
    "    # Iterate over unique index values and update DataFrame\n",
    "    for idx in kw_index_4df:\n",
    "        if idx in recipes.index:\n",
    "            if 'tag_list' not in recipes.columns:\n",
    "                recipes['tag_list'] = ''  # Create the 'tag_list' column if it doesn't exist\n",
    "            recipes.at[idx, 'tag_list'] = ', '.join([recipes.at[idx, 'tag_list']] + topic_kws)  # Concatenate strings\n",
    "    \n",
    "    if i % 10 == 0:\n",
    "        print('Topic #{} Checkpoint'.format(i))\n",
    "\n",
    "print('done!')\n"
   ]
  },
  {
   "cell_type": "code",
   "execution_count": null,
   "metadata": {},
   "outputs": [],
   "source": [
    "recipes.loc[:5,'tag_list']"
   ]
  },
  {
   "cell_type": "code",
   "execution_count": null,
   "metadata": {},
   "outputs": [],
   "source": [
    "# Concatenating lists of tags into a string a collective of tags for each documents\n",
    "recipes['tags'] = [' '.join(tags) for tags in recipes['tag_list']]"
   ]
  },
  {
   "cell_type": "code",
   "execution_count": null,
   "metadata": {},
   "outputs": [],
   "source": [
    "recipes.loc[:5,'tags']"
   ]
  },
  {
   "cell_type": "markdown",
   "metadata": {},
   "source": [
    "### Querying Algorithm\n",
    "The final product presented is a search algorithm that takes in a list of ingredients or categories, and uses the query to return relavant recipes that utilize those ingredients or are similarly related to other ingredients and those recipes."
   ]
  },
  {
   "cell_type": "code",
   "execution_count": null,
   "metadata": {},
   "outputs": [],
   "source": [
    "recipes.columns"
   ]
  },
  {
   "cell_type": "code",
   "execution_count": null,
   "metadata": {},
   "outputs": [],
   "source": [
    "# Creating TF-IDF Matrices and recalling text dependencies\n",
    "\n",
    "'''import text_tokenized.csv here'''\n",
    "\n",
    "# TF-IDF vectorizer instance\n",
    "'''vectorizer = TfidfVectorizer(lowercase = True,\n",
    "                            ngram_range = (1,1))'''\n",
    "\n",
    "'''text_tfidf = vectorizer.fit_transform(tokenized_text)'''\n",
    "# title_tfidf = vectorizer.transform(recipes['title'])\n",
    "# text_tfidf    <== Variable with recipe ingredients and instructions\n",
    "# tags_tfidf = vectorizer.transform(recipes['tags'])\n",
    "# recipes   <== DataFrame; For indexing and printing recipes\n",
    "\n",
    "# Query Similarity Weights\n",
    "w_title = .2\n",
    "w_text = .3\n",
    "w_categories = .5\n"
   ]
  },
  {
   "cell_type": "code",
   "execution_count": null,
   "metadata": {},
   "outputs": [],
   "source": [
    "def qweight_array(query_length, qw_array = [1]):\n",
    "    '''Returns descending weights for ranked query ingredients'''\n",
    "    if query_length > 1:\n",
    "        to_split = qw_array.pop()\n",
    "        split = to_split/2\n",
    "        qw_array.extend([split, split])\n",
    "        return qweight_array(query_length - 1, qw_array)\n",
    "    else:\n",
    "        return np.array(qw_array)\n",
    "\n",
    "def ranked_query(query):\n",
    "    '''Called if query ingredients are ranked in order of importance.\n",
    "    Weights and adds each ranked query ingredient vector.'''\n",
    "    query = [[q] for q in query]      # place words in seperate documents\n",
    "    q_vecs = [vectorizer.transform(q) for q in query] \n",
    "    qw_array = qweight_array(len(query),[1])\n",
    "    q_weighted_vecs = q_vecs * qw_array\n",
    "    q_final_vector = reduce(np.add,q_weighted_vecs)\n",
    "    return q_final_vector\n",
    "\n",
    "def overall_scores(query_vector):\n",
    "    '''Calculates Query Similarity Scores against recipe title, instructions, and keywords.\n",
    "    Then returns weighted averages of similarities for each recipe.'''\n",
    "    final_scores = title_tfidf*query_vector.T*w_title\n",
    "    final_scores += text_tfidf*query_vector.T*w_text\n",
    "    final_scores += tags_tfidf*query_vector.T*w_categories\n",
    "    return final_scores\n",
    "\n",
    "def print_recipes(index, query, recipe_range):\n",
    "    '''Prints recipes according to query similary ranks'''\n",
    "    print('Search Query: {}\\n'.format(query))\n",
    "    for i, index in enumerate(index, recipe_range[0]):\n",
    "        print('Recipe Rank: {}\\t'.format(i+1),recipes.loc[index, 'title'],'\\n')\n",
    "        print('Ingredients:\\n{}\\n '.format(recipes.loc[index, 'ingredient_text']))\n",
    "        print('Instructions:\\n{}\\n'.format(recipes.loc[index, 'instructions']))\n",
    "        \n",
    "def Search_Recipes(query, query_ranked=False, recipe_range=(0,3)):\n",
    "    '''Master Recipe Search Function'''\n",
    "    if query_ranked == True:\n",
    "        q_vector = ranked_query(query)\n",
    "    else:\n",
    "        q_vector = vectorizer.transform([' '.join(query)])\n",
    "    recipe_scores = overall_scores(q_vector)\n",
    "    sorted_index = pd.Series(recipe_scores.toarray().T[0]).sort_values(ascending = False)[recipe_range[0]:recipe_range[1]].index\n",
    "    return print_recipes(sorted_index, query, recipe_range)\n",
    "    "
   ]
  },
  {
   "cell_type": "markdown",
   "metadata": {},
   "source": [
    "### Testing the Algorithm"
   ]
  },
  {
   "cell_type": "code",
   "execution_count": null,
   "metadata": {},
   "outputs": [],
   "source": [
    "query = ['cinnamon', 'cream', 'banana']\n",
    "Search_Recipes(query, query_ranked=True, recipe_range=(0,3))"
   ]
  },
  {
   "cell_type": "code",
   "execution_count": null,
   "metadata": {},
   "outputs": [],
   "source": [
    "# Test Rank\n",
    "query = ['wine', 'cilantro','butter']\n",
    "Search_Recipes(query, query_ranked=False, recipe_range=(0,3))"
   ]
  },
  {
   "cell_type": "markdown",
   "metadata": {},
   "source": [
    "### -- Conclusions and Model Outlook --\n",
    "\n",
    "Overall the Search_Recipes function works quite well. From experimenting with the weighting, it's clear to me that the original text of the recipes returns better results than the categories generated with TextRank. More topics need to be added; from looking at the food topic documents, it's clear that the level of granularity with which LDA and NNMF can cluster recipe is very good. Another fix for this issue is to utilize dense word embeddings that capture semantic similarities between words with more sophistication. THe biggest issue with the current model is that the words that maps to each topics or category are limited and discreet. Even if a a words is technically more related to a topic than the words extracted from the same topic, yet the word was not extracted from the topic, then the original word query won't be factored into the search through the categories.\n",
    "\n",
    "Also it does appear that some words are more heavily weighted than others, which biases the search results towards that ingredient, although this does require more rigorous texting. \"Miso\" is a word that is heavily weighted in the tfidf matrices for example. One work around is to use simple rank this ingredient lower in the Search_Recipes function, but a global solution is preferable. It is perhaps more beneficial to utilize these weights that tf-idf creates, rather than finding a way to get rid of them. But experimenting with different word embeddings would be interesting.\n",
    "\n",
    "Also, another issue is that many recipes were not assigned categories due to the model parameters, and this decreases there ranks with the text with an unfair disadvantage. Hopefully a future iteration of this model will allow all recipes to have associated categories.\n",
    "\n",
    "Future Implementation and Changes for this model:\n",
    "\n",
    "- Word2Vec or GloVe embeddings\n",
    "- LDA2Vec topic extraction\n",
    "- Negative Querying that decreases rank of matching queries\n",
    "- Using real databases to store data and creating a creating an user interface on which this model where this model can be easily utilized\n",
    "\n"
   ]
  },
  {
   "cell_type": "code",
   "execution_count": null,
   "metadata": {},
   "outputs": [],
   "source": [
    "# Test \n",
    "query = ['jelly','wine']\n",
    "Search_Recipes(query, query_ranked=False, recipe_range=(0,3))"
   ]
  },
  {
   "cell_type": "code",
   "execution_count": null,
   "metadata": {},
   "outputs": [],
   "source": [
    "query = ['pepper','apple','pork']\n",
    "Search_Recipes(query, query_ranked=False, recipe_range=(0,3))"
   ]
  },
  {
   "cell_type": "code",
   "execution_count": null,
   "metadata": {},
   "outputs": [],
   "source": [
    "recipes['tags'][122894]"
   ]
  },
  {
   "cell_type": "markdown",
   "metadata": {},
   "source": [
    "--------\n",
    "### Some notes:\n",
    "List of Parameters and Evaluation Methods\n",
    "- Number of Topics\n",
    "- Number of Documents to pull keywords from\n",
    "- Number of Keywords per topic\n",
    "- Number of Documents to assign keywords to\n",
    "- Neighbor Window Size\n",
    "- Query Title Weight\n",
    "- Query Description Weight\n",
    "- Query Category Weight"
   ]
  },
  {
   "cell_type": "code",
   "execution_count": null,
   "metadata": {},
   "outputs": [],
   "source": [
    "### No Category Weight\n",
    "query = ['cream','banana','cinnamon']\n",
    "Search_Recipes(query, query_ranked=False, recipe_range=(0,3))"
   ]
  },
  {
   "cell_type": "code",
   "execution_count": null,
   "metadata": {},
   "outputs": [],
   "source": [
    "### Empty Query\n",
    "query = []\n",
    "Search_Recipes(query, query_ranked=False, recipe_range=(0,3))"
   ]
  },
  {
   "cell_type": "code",
   "execution_count": null,
   "metadata": {},
   "outputs": [],
   "source": [
    "### Only Category Weight\n",
    "query = ['apple','blueberry']\n",
    "Search_Recipes(query, query_ranked=False, recipe_range=(0,3))"
   ]
  },
  {
   "cell_type": "code",
   "execution_count": null,
   "metadata": {},
   "outputs": [],
   "source": [
    "### Only Category Weight\n",
    "query = ['japanese']\n",
    "Search_Recipes(query, query_ranked=False, recipe_range=(0,3))"
   ]
  },
  {
   "cell_type": "markdown",
   "metadata": {},
   "source": [
    "Further Analysis:\n",
    "- Generate Tag Count column in the Recipes data frame. Analyze distribution of tags.\n",
    "- See if all of the topics are easily interpretable from the generated tags."
   ]
  },
  {
   "cell_type": "markdown",
   "metadata": {},
   "source": [
    "### Peerings into the generated topics"
   ]
  },
  {
   "cell_type": "code",
   "execution_count": null,
   "metadata": {},
   "outputs": [],
   "source": [
    "recipes.tags"
   ]
  },
  {
   "cell_type": "code",
   "execution_count": null,
   "metadata": {},
   "outputs": [],
   "source": [
    "recipes.tags[13]"
   ]
  },
  {
   "cell_type": "code",
   "execution_count": null,
   "metadata": {},
   "outputs": [],
   "source": [
    "recipes.tags[122907]"
   ]
  },
  {
   "cell_type": "code",
   "execution_count": null,
   "metadata": {},
   "outputs": [],
   "source": [
    "recipes.tags[90708]"
   ]
  },
  {
   "cell_type": "code",
   "execution_count": null,
   "metadata": {},
   "outputs": [],
   "source": [
    "recipes.tags[50409]"
   ]
  },
  {
   "cell_type": "code",
   "execution_count": null,
   "metadata": {},
   "outputs": [],
   "source": [
    "recipes.tags[30234]"
   ]
  },
  {
   "cell_type": "code",
   "execution_count": null,
   "metadata": {},
   "outputs": [],
   "source": [
    "recipes.tags[23596]"
   ]
  },
  {
   "cell_type": "code",
   "execution_count": null,
   "metadata": {},
   "outputs": [],
   "source": [
    "recipes.tags[60457]"
   ]
  },
  {
   "cell_type": "code",
   "execution_count": null,
   "metadata": {},
   "outputs": [],
   "source": [
    "recipes.tags[110997]"
   ]
  },
  {
   "cell_type": "code",
   "execution_count": null,
   "metadata": {},
   "outputs": [],
   "source": [
    "recipes.head()"
   ]
  },
  {
   "cell_type": "code",
   "execution_count": null,
   "metadata": {},
   "outputs": [],
   "source": []
  }
 ],
 "metadata": {
  "kernelspec": {
   "display_name": "Python 3 (ipykernel)",
   "language": "python",
   "name": "python3"
  },
  "language_info": {
   "codemirror_mode": {
    "name": "ipython",
    "version": 3
   },
   "file_extension": ".py",
   "mimetype": "text/x-python",
   "name": "python",
   "nbconvert_exporter": "python",
   "pygments_lexer": "ipython3",
   "version": "3.9.13"
  }
 },
 "nbformat": 4,
 "nbformat_minor": 2
}
