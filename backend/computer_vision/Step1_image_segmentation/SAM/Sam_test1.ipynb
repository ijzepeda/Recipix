{
 "cells": [
  {
   "cell_type": "markdown",
   "id": "fe3fc9d2",
   "metadata": {},
   "source": [
    "Click the links below to download the checkpoint for the corresponding model type.\n",
    "\n",
    "default or vit_h: ViT-H SAM model.\n",
    "vit_l: ViT-L SAM model.\n",
    "vit_b: ViT-B SAM model."
   ]
  },
  {
   "cell_type": "code",
   "execution_count": 3,
   "id": "b015dd4f",
   "metadata": {},
   "outputs": [
    {
     "ename": "ModuleNotFoundError",
     "evalue": "No module named 'torch'",
     "output_type": "error",
     "traceback": [
      "\u001b[1;31m---------------------------------------------------------------------------\u001b[0m",
      "\u001b[1;31mModuleNotFoundError\u001b[0m                       Traceback (most recent call last)",
      "Cell \u001b[1;32mIn[3], line 1\u001b[0m\n\u001b[1;32m----> 1\u001b[0m \u001b[38;5;28;01mfrom\u001b[39;00m \u001b[38;5;21;01msegment_anything\u001b[39;00m \u001b[38;5;28;01mimport\u001b[39;00m SamAutomaticMaskGenerator, sam_model_registry\n\u001b[0;32m      3\u001b[0m checkpoint_path \u001b[38;5;241m=\u001b[39m \u001b[38;5;124m\"\u001b[39m\u001b[38;5;124mC:\u001b[39m\u001b[38;5;130;01m\\\\\u001b[39;00m\u001b[38;5;124mUsers\u001b[39m\u001b[38;5;130;01m\\\\\u001b[39;00m\u001b[38;5;124mijzep\u001b[39m\u001b[38;5;130;01m\\\\\u001b[39;00m\u001b[38;5;124m_IA_LAMBTON\u001b[39m\u001b[38;5;130;01m\\\\\u001b[39;00m\u001b[38;5;124mCapstone\u001b[39m\u001b[38;5;130;01m\\\\\u001b[39;00m\u001b[38;5;124mSAM\u001b[39m\u001b[38;5;130;01m\\\\\u001b[39;00m\u001b[38;5;124msam_vit_b_01ec64.pth\u001b[39m\u001b[38;5;124m\"\u001b[39m\n\u001b[0;32m      4\u001b[0m sam \u001b[38;5;241m=\u001b[39m sam_model_registry[\u001b[38;5;124m\"\u001b[39m\u001b[38;5;124mvit_b\u001b[39m\u001b[38;5;124m\"\u001b[39m](checkpoint\u001b[38;5;241m=\u001b[39mcheckpoint_path)\n",
      "File \u001b[1;32m~\\anaconda3\\Lib\\site-packages\\segment_anything\\__init__.py:7\u001b[0m\n\u001b[0;32m      1\u001b[0m \u001b[38;5;66;03m# Copyright (c) Meta Platforms, Inc. and affiliates.\u001b[39;00m\n\u001b[0;32m      2\u001b[0m \u001b[38;5;66;03m# All rights reserved.\u001b[39;00m\n\u001b[0;32m      3\u001b[0m \n\u001b[0;32m      4\u001b[0m \u001b[38;5;66;03m# This source code is licensed under the license found in the\u001b[39;00m\n\u001b[0;32m      5\u001b[0m \u001b[38;5;66;03m# LICENSE file in the root directory of this source tree.\u001b[39;00m\n\u001b[1;32m----> 7\u001b[0m \u001b[38;5;28;01mfrom\u001b[39;00m \u001b[38;5;21;01m.\u001b[39;00m\u001b[38;5;21;01mbuild_sam\u001b[39;00m \u001b[38;5;28;01mimport\u001b[39;00m (\n\u001b[0;32m      8\u001b[0m     build_sam,\n\u001b[0;32m      9\u001b[0m     build_sam_vit_h,\n\u001b[0;32m     10\u001b[0m     build_sam_vit_l,\n\u001b[0;32m     11\u001b[0m     build_sam_vit_b,\n\u001b[0;32m     12\u001b[0m     sam_model_registry,\n\u001b[0;32m     13\u001b[0m )\n\u001b[0;32m     14\u001b[0m \u001b[38;5;28;01mfrom\u001b[39;00m \u001b[38;5;21;01m.\u001b[39;00m\u001b[38;5;21;01mpredictor\u001b[39;00m \u001b[38;5;28;01mimport\u001b[39;00m SamPredictor\n\u001b[0;32m     15\u001b[0m \u001b[38;5;28;01mfrom\u001b[39;00m \u001b[38;5;21;01m.\u001b[39;00m\u001b[38;5;21;01mautomatic_mask_generator\u001b[39;00m \u001b[38;5;28;01mimport\u001b[39;00m SamAutomaticMaskGenerator\n",
      "File \u001b[1;32m~\\anaconda3\\Lib\\site-packages\\segment_anything\\build_sam.py:7\u001b[0m\n\u001b[0;32m      1\u001b[0m \u001b[38;5;66;03m# Copyright (c) Meta Platforms, Inc. and affiliates.\u001b[39;00m\n\u001b[0;32m      2\u001b[0m \u001b[38;5;66;03m# All rights reserved.\u001b[39;00m\n\u001b[0;32m      3\u001b[0m \n\u001b[0;32m      4\u001b[0m \u001b[38;5;66;03m# This source code is licensed under the license found in the\u001b[39;00m\n\u001b[0;32m      5\u001b[0m \u001b[38;5;66;03m# LICENSE file in the root directory of this source tree.\u001b[39;00m\n\u001b[1;32m----> 7\u001b[0m \u001b[38;5;28;01mimport\u001b[39;00m \u001b[38;5;21;01mtorch\u001b[39;00m\n\u001b[0;32m      9\u001b[0m \u001b[38;5;28;01mfrom\u001b[39;00m \u001b[38;5;21;01mfunctools\u001b[39;00m \u001b[38;5;28;01mimport\u001b[39;00m partial\n\u001b[0;32m     11\u001b[0m \u001b[38;5;28;01mfrom\u001b[39;00m \u001b[38;5;21;01m.\u001b[39;00m\u001b[38;5;21;01mmodeling\u001b[39;00m \u001b[38;5;28;01mimport\u001b[39;00m ImageEncoderViT, MaskDecoder, PromptEncoder, Sam, TwoWayTransformer\n",
      "\u001b[1;31mModuleNotFoundError\u001b[0m: No module named 'torch'"
     ]
    }
   ],
   "source": [
    "from segment_anything import SamAutomaticMaskGenerator, sam_model_registry\n",
    "\n",
    "checkpoint_path = \"C:\\\\Users\\\\ijzep\\\\_IA_LAMBTON\\\\Capstone\\\\SAM\\\\sam_vit_b_01ec64.pth\"\n",
    "sam = sam_model_registry[\"vit_b\"](checkpoint=checkpoint_path)\n",
    "mask_generator = SamAutomaticMaskGenerator(sam)\n",
    "masks = mask_generator.generate(image)"
   ]
  },
  {
   "cell_type": "code",
   "execution_count": 21,
   "id": "9d539e91",
   "metadata": {},
   "outputs": [
    {
     "ename": "AssertionError",
     "evalue": "point_labels must be supplied if point_coords is supplied.",
     "output_type": "error",
     "traceback": [
      "\u001b[1;31m---------------------------------------------------------------------------\u001b[0m",
      "\u001b[1;31mAssertionError\u001b[0m                            Traceback (most recent call last)",
      "Cell \u001b[1;32mIn[21], line 20\u001b[0m\n\u001b[0;32m     17\u001b[0m predictor\u001b[38;5;241m.\u001b[39mset_image(image)\n\u001b[0;32m     19\u001b[0m \u001b[38;5;66;03m# Perform prediction\u001b[39;00m\n\u001b[1;32m---> 20\u001b[0m masks, _, _ \u001b[38;5;241m=\u001b[39m \u001b[43mpredictor\u001b[49m\u001b[38;5;241;43m.\u001b[39;49m\u001b[43mpredict\u001b[49m\u001b[43m(\u001b[49m\u001b[43m[\u001b[49m\u001b[38;5;124;43m'\u001b[39;49m\u001b[38;5;124;43mfood\u001b[39;49m\u001b[38;5;124;43m'\u001b[39;49m\u001b[43m]\u001b[49m\u001b[43m)\u001b[49m\n",
      "File \u001b[1;32m~\\anaconda3\\envs\\GTA\\lib\\site-packages\\segment_anything\\predictor.py:140\u001b[0m, in \u001b[0;36mSamPredictor.predict\u001b[1;34m(self, point_coords, point_labels, box, mask_input, multimask_output, return_logits)\u001b[0m\n\u001b[0;32m    137\u001b[0m coords_torch, labels_torch, box_torch, mask_input_torch \u001b[38;5;241m=\u001b[39m \u001b[38;5;28;01mNone\u001b[39;00m, \u001b[38;5;28;01mNone\u001b[39;00m, \u001b[38;5;28;01mNone\u001b[39;00m, \u001b[38;5;28;01mNone\u001b[39;00m\n\u001b[0;32m    138\u001b[0m \u001b[38;5;28;01mif\u001b[39;00m point_coords \u001b[38;5;129;01mis\u001b[39;00m \u001b[38;5;129;01mnot\u001b[39;00m \u001b[38;5;28;01mNone\u001b[39;00m:\n\u001b[0;32m    139\u001b[0m     \u001b[38;5;28;01massert\u001b[39;00m (\n\u001b[1;32m--> 140\u001b[0m         point_labels \u001b[38;5;129;01mis\u001b[39;00m \u001b[38;5;129;01mnot\u001b[39;00m \u001b[38;5;28;01mNone\u001b[39;00m\n\u001b[0;32m    141\u001b[0m     ), \u001b[38;5;124m\"\u001b[39m\u001b[38;5;124mpoint_labels must be supplied if point_coords is supplied.\u001b[39m\u001b[38;5;124m\"\u001b[39m\n\u001b[0;32m    142\u001b[0m     point_coords \u001b[38;5;241m=\u001b[39m \u001b[38;5;28mself\u001b[39m\u001b[38;5;241m.\u001b[39mtransform\u001b[38;5;241m.\u001b[39mapply_coords(point_coords, \u001b[38;5;28mself\u001b[39m\u001b[38;5;241m.\u001b[39moriginal_size)\n\u001b[0;32m    143\u001b[0m     coords_torch \u001b[38;5;241m=\u001b[39m torch\u001b[38;5;241m.\u001b[39mas_tensor(point_coords, dtype\u001b[38;5;241m=\u001b[39mtorch\u001b[38;5;241m.\u001b[39mfloat, device\u001b[38;5;241m=\u001b[39m\u001b[38;5;28mself\u001b[39m\u001b[38;5;241m.\u001b[39mdevice)\n",
      "\u001b[1;31mAssertionError\u001b[0m: point_labels must be supplied if point_coords is supplied."
     ]
    }
   ],
   "source": [
    "import cv2\n",
    "from segment_anything import SamPredictor, sam_model_registry\n",
    "\n",
    "# Load the model\n",
    "checkpoint_path = \"C:\\\\Users\\\\ijzep\\\\_IA_LAMBTON\\\\Capstone\\\\SAM\\\\sam_vit_l_0b3195.pth\"\n",
    "sam = sam_model_registry[\"vit_l\"](checkpoint=checkpoint_path)\n",
    "predictor = SamPredictor(sam)\n",
    "\n",
    "# Load the image using OpenCV\n",
    "image_path = \"C:\\\\Users\\\\ijzep\\\\_IA_LAMBTON\\\\Capstone\\\\sam_test\\\\f1.jpg\"\n",
    "image = cv2.imread(image_path)\n",
    "\n",
    "# Convert BGR (OpenCV default) to RGB if necessary\n",
    "image = cv2.cvtColor(image, cv2.COLOR_BGR2RGB)\n",
    "\n",
    "# Set the image in the predictor\n",
    "predictor.set_image(image)\n",
    "\n",
    "# Perform prediction\n",
    "masks, _, _ = predictor.predict(['food'])\n"
   ]
  },
  {
   "cell_type": "markdown",
   "id": "406129be",
   "metadata": {},
   "source": [
    "from segment_anything import SamPredictor, sam_model_registry\n",
    "\n",
    "# Use an absolute path and ensure the file has the correct extension\n",
    "checkpoint_path = \"C:\\\\Users\\\\ijzep\\\\_IA_LAMBTON\\\\Capstone\\\\SAM\\\\sam_vit_l_0b3195.pth\"\n",
    "\n",
    "sam = sam_model_registry[\"vit_l\"](checkpoint=checkpoint_path)\n",
    "predictor = SamPredictor(sam)\n",
    "predictor.set_image(\"C:\\\\Users\\\\ijzep\\\\_IA_LAMBTON\\\\Capstone\\\\sam_test\\\\f1.jpg\")\n",
    "masks, _, _ = predictor.predict(['food'])\n",
    "\n",
    "\n"
   ]
  },
  {
   "cell_type": "markdown",
   "id": "33821267",
   "metadata": {},
   "source": [
    "from segment_anything import SamPredictor, sam_model_registry\n",
    "checkpoint_path = \"C:\\\\Users\\\\ijzep\\\\_IA_LAMBTON\\\\Capstone\\\\SAM\\\\sam_vit_b_01ec64.pth\"\n",
    "\n",
    "sam = sam_model_registry[\"vit_b\"](checkpoint=checkpoint_path\")\n",
    "predictor = SamPredictor(sam)\n",
    "predictor.set_image(\".\\\\sam_test\\\\f1.jpg\")\n",
    "masks, _, _ = predictor.predict(['food'])"
   ]
  },
  {
   "cell_type": "code",
   "execution_count": null,
   "id": "4edb5e81",
   "metadata": {},
   "outputs": [],
   "source": []
  }
 ],
 "metadata": {
  "kernelspec": {
   "display_name": "Python 3 (ipykernel)",
   "language": "python",
   "name": "python3"
  },
  "language_info": {
   "codemirror_mode": {
    "name": "ipython",
    "version": 3
   },
   "file_extension": ".py",
   "mimetype": "text/x-python",
   "name": "python",
   "nbconvert_exporter": "python",
   "pygments_lexer": "ipython3",
   "version": "3.11.5"
  }
 },
 "nbformat": 4,
 "nbformat_minor": 5
}
